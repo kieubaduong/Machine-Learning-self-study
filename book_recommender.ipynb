{
 "cells": [
  {
   "attachments": {},
   "cell_type": "markdown",
   "metadata": {},
   "source": [
    "# Giai đoạn 1: Chuẩn bị data"
   ]
  },
  {
   "attachments": {},
   "cell_type": "markdown",
   "metadata": {},
   "source": [
    "Bước 1: Import data"
   ]
  },
  {
   "cell_type": "code",
   "execution_count": null,
   "metadata": {
    "vscode": {
     "languageId": "plaintext"
    }
   },
   "outputs": [],
   "source": [
    "import pandas as pd\n",
    "\n",
    "books = pd.read_csv(\"/content/drive/MyDrive/Dataset/archive/Books.csv\")\n",
    "ratings = pd.read_csv(\"/content/drive/MyDrive/Dataset/archive/Ratings.csv\")\n",
    "users = pd.read_csv(\"/content/drive/MyDrive/Dataset/archive/Users.csv\")\n",
    "\n",
    "books.head()"
   ]
  },
  {
   "cell_type": "code",
   "execution_count": null,
   "metadata": {
    "vscode": {
     "languageId": "plaintext"
    }
   },
   "outputs": [],
   "source": [
    "ratings.head()"
   ]
  },
  {
   "cell_type": "code",
   "execution_count": null,
   "metadata": {
    "vscode": {
     "languageId": "plaintext"
    }
   },
   "outputs": [],
   "source": [
    "users.head()"
   ]
  },
  {
   "attachments": {},
   "cell_type": "markdown",
   "metadata": {},
   "source": [
    "Bước 2: Tạo df là bảng Rating kết trái với bảng Book"
   ]
  },
  {
   "cell_type": "code",
   "execution_count": null,
   "metadata": {
    "vscode": {
     "languageId": "plaintext"
    }
   },
   "outputs": [],
   "source": [
    "df = ratings.merge(books, how=\"left\", on=\"ISBN\")\n",
    "\n",
    "df.head()"
   ]
  },
  {
   "attachments": {},
   "cell_type": "markdown",
   "metadata": {},
   "source": [
    "Bước 3: Đếm số người rating đối với từng quyển sách. Lưu tên những quyển sách được ít hơn 15 người vote để xóa khỏi dataset"
   ]
  },
  {
   "cell_type": "code",
   "execution_count": null,
   "metadata": {
    "vscode": {
     "languageId": "plaintext"
    }
   },
   "outputs": [],
   "source": [
    "rating_count = pd.DataFrame(df[\"Book-Title\"].value_counts())\n",
    "\n",
    "rating_count.head()"
   ]
  },
  {
   "attachments": {},
   "cell_type": "markdown",
   "metadata": {},
   "source": [
    "rare_rating_count chứa những quyển sách được ít hơn 600 user rate"
   ]
  },
  {
   "cell_type": "code",
   "execution_count": null,
   "metadata": {
    "vscode": {
     "languageId": "plaintext"
    }
   },
   "outputs": [],
   "source": [
    "rare_rating_count = rating_count[rating_count[\"Book-Title\"] < 600].index\n",
    "rare_rating_count.size"
   ]
  },
  {
   "attachments": {},
   "cell_type": "markdown",
   "metadata": {},
   "source": [
    "common_rating_count là bảng kết trái ở trên nhưng lọc bỏ những dòng có chứa những quyển ít được user đánh giá ở trên"
   ]
  },
  {
   "cell_type": "code",
   "execution_count": null,
   "metadata": {
    "vscode": {
     "languageId": "plaintext"
    }
   },
   "outputs": [],
   "source": [
    "common_rating_count = df[~df[\"Book-Title\"].isin(rare_rating_count)]\n",
    "common_rating_count"
   ]
  },
  {
   "attachments": {},
   "cell_type": "markdown",
   "metadata": {},
   "source": [
    "Bước 4: Tạo một pivot table (book_df), chỉ số dòng là user-id, chỉ số cột là tên sách. Mỗi giá trị trên một cell đại diện cho số rating của một user cho một quyển sách"
   ]
  },
  {
   "cell_type": "code",
   "execution_count": null,
   "metadata": {
    "vscode": {
     "languageId": "plaintext"
    }
   },
   "outputs": [],
   "source": [
    "book_df = common_rating_count.pivot_table(index=[\"User-ID\"], columns=[\"Book-Title\"], values=\"Book-Rating\")\n",
    "book_df.head()"
   ]
  },
  {
   "attachments": {},
   "cell_type": "markdown",
   "metadata": {},
   "source": [
    "# Giai đoạn 2: Xác định các bộ phim được xem bởi user"
   ]
  },
  {
   "attachments": {},
   "cell_type": "markdown",
   "metadata": {},
   "source": [
    "Bước 1: Chọn random một user"
   ]
  },
  {
   "cell_type": "code",
   "execution_count": null,
   "metadata": {
    "vscode": {
     "languageId": "plaintext"
    }
   },
   "outputs": [],
   "source": [
    "random_user = 230522"
   ]
  },
  {
   "attachments": {},
   "cell_type": "markdown",
   "metadata": {},
   "source": [
    "Bước 2: Tạo một dataframe (random_user_df) từ pivot table chứa những rating đối với những quyển sách mà user đó đã xem"
   ]
  },
  {
   "cell_type": "code",
   "execution_count": null,
   "metadata": {
    "vscode": {
     "languageId": "plaintext"
    }
   },
   "outputs": [],
   "source": [
    "random_user_df = book_df[book_df.index == random_user]\n",
    "random_user_df"
   ]
  },
  {
   "attachments": {},
   "cell_type": "markdown",
   "metadata": {},
   "source": [
    "Bước 3: Gán những quyển mà đã được coi (hoặc rating) bởi user đó vào list books_read"
   ]
  },
  {
   "cell_type": "code",
   "execution_count": null,
   "metadata": {
    "vscode": {
     "languageId": "plaintext"
    }
   },
   "outputs": [],
   "source": [
    "books_read = random_user_df.columns[random_user_df.notna().any()].tolist()\n",
    "books_read"
   ]
  },
  {
   "attachments": {},
   "cell_type": "markdown",
   "metadata": {},
   "source": [
    "# Giai đoạn 3: Trích xuất ra các similar user"
   ]
  },
  {
   "attachments": {},
   "cell_type": "markdown",
   "metadata": {},
   "source": [
    "Bước 1: Lọc bỏ những quyển mà random user chưa đọc khỏi pivot table bằng cách chỉ giữ lại những cột có trong books_read, gán dataframe này cho books_read_df"
   ]
  },
  {
   "cell_type": "code",
   "execution_count": null,
   "metadata": {
    "vscode": {
     "languageId": "plaintext"
    }
   },
   "outputs": [],
   "source": [
    "books_read_df = book_df[books_read]\n",
    "books_read_df.head()"
   ]
  },
  {
   "attachments": {},
   "cell_type": "markdown",
   "metadata": {},
   "source": [
    "Bước 2: Tạo một dataframe (user_book_count) để tính xem với mỗi user (những user còn lại ngoài random user) đọc được bao nhiêu quyển trong những quyển mà thằng random user đã đọc"
   ]
  },
  {
   "cell_type": "code",
   "execution_count": null,
   "metadata": {
    "vscode": {
     "languageId": "plaintext"
    }
   },
   "outputs": [],
   "source": [
    "user_book_count = books_read_df.T.notnull().sum()\n",
    "user_book_count = user_book_count.reset_index()\n",
    "user_book_count.columns = [\"User-ID\", \"Book-Count\"]\n",
    "user_book_count"
   ]
  },
  {
   "attachments": {},
   "cell_type": "markdown",
   "metadata": {},
   "source": [
    "Bước 3: Giả sử những user mà đọc được ít nhất 60% tổng số cuốn mà random user đã đọc thì coi những user này là những thằng user giống với random_user. Giờ ta sẽ tạo series users_same_books để chứa id những user này"
   ]
  },
  {
   "cell_type": "code",
   "execution_count": null,
   "metadata": {
    "vscode": {
     "languageId": "plaintext"
    }
   },
   "outputs": [],
   "source": [
    "perc = len(books_read) * 55 / 100\n",
    "users_same_books = user_book_count[user_book_count[\"Book-Count\"] >= perc][\"User-ID\"]\n",
    "users_same_books"
   ]
  },
  {
   "attachments": {},
   "cell_type": "markdown",
   "metadata": {},
   "source": [
    "# Giai đoạn 4: Tìm ra những user giống với random user nhất"
   ]
  },
  {
   "attachments": {},
   "cell_type": "markdown",
   "metadata": {},
   "source": [
    "Bước 1: Lọc từ dataframe books_read_df những similar user đã tìm được ở trên rồi gán vào final_df"
   ]
  },
  {
   "cell_type": "code",
   "execution_count": null,
   "metadata": {
    "vscode": {
     "languageId": "plaintext"
    }
   },
   "outputs": [],
   "source": [
    "final_df = pd.concat([books_read_df[books_read_df.index.isin(users_same_books)], random_user_df[books_read]])\n",
    "final_df"
   ]
  },
  {
   "attachments": {},
   "cell_type": "markdown",
   "metadata": {},
   "source": [
    "Bước 2: Tạo bảng corr_df chứa mối quan hệ giữa những similar user với random user với nhau"
   ]
  },
  {
   "cell_type": "code",
   "execution_count": null,
   "metadata": {
    "vscode": {
     "languageId": "plaintext"
    }
   },
   "outputs": [],
   "source": [
    "corr_df = final_df.T.corr().unstack().sort_values().drop_duplicates()\n",
    "corr_df = pd.DataFrame(corr_df, columns=[\"corr\"])\n",
    "corr_df.index.names = [\"user_id_1\", \"user_id_2\"]\n",
    "corr_df = corr_df.reset_index()\n",
    "\n",
    "corr_df"
   ]
  },
  {
   "attachments": {},
   "cell_type": "markdown",
   "metadata": {},
   "source": [
    "Bước 3: Tạo bảng top_users chứa những user có mối quan hệ > 0.55 so với random user"
   ]
  },
  {
   "cell_type": "code",
   "execution_count": null,
   "metadata": {
    "vscode": {
     "languageId": "plaintext"
    }
   },
   "outputs": [],
   "source": [
    "top_users = corr_df[(corr_df[\"user_id_1\"] == random_user) & (corr_df[\"corr\"] > 0.55)][[\"user_id_2\", \"corr\"]].reset_index(drop=True)\n",
    "top_users"
   ]
  },
  {
   "attachments": {},
   "cell_type": "markdown",
   "metadata": {},
   "source": [
    "Bước 4: Merge bảng top_users với bảng ratings -> bảng top_users_ratings. Ý nghĩa cái bảng này là chỉ ra những thằng top_users rating những quyển sách như thế nào"
   ]
  },
  {
   "cell_type": "code",
   "execution_count": null,
   "metadata": {
    "vscode": {
     "languageId": "plaintext"
    }
   },
   "outputs": [],
   "source": [
    "top_users = top_users.sort_values(by=\"corr\", ascending=False)\n",
    "top_users.rename(columns={\"user_id_2\": \"User-ID\"}, inplace=True)\n",
    "final = top_users.merge(ratings[[\"User-ID\", \"ISBN\", \"Book-Rating\"]], how=\"inner\")\n",
    "top_users_ratings = final[final[\"User-ID\"] != random_user]\n",
    "top_users_ratings"
   ]
  },
  {
   "attachments": {},
   "cell_type": "markdown",
   "metadata": {},
   "source": [
    "# Giai đoạn 5: Dự đoán random_user sẽ rating những quyển sách giá trị bao nhiêu và lấy top 5 quyển có giá trị rating cao nhất"
   ]
  },
  {
   "attachments": {},
   "cell_type": "markdown",
   "metadata": {},
   "source": [
    "Bước 1: Tạo thêm một cột ở bảng trên (top_users_ratings) cột \"weighted_rating\" được tính bằng corr*Book-Rating. Thông số này có ý nghĩa là dự đoán random_user sẽ rating những quyển sách với con số tương ứng"
   ]
  },
  {
   "cell_type": "code",
   "execution_count": null,
   "metadata": {
    "vscode": {
     "languageId": "plaintext"
    }
   },
   "outputs": [],
   "source": [
    "top_users_ratings[\"weighted_rating\"] = top_users_ratings[\"corr\"] * top_users_ratings[\"Book-Rating\"]\n",
    "top_users_ratings"
   ]
  },
  {
   "attachments": {},
   "cell_type": "markdown",
   "metadata": {},
   "source": [
    "Bước 2: Tạo dataframe recommendation_df là tương ứng với mỗi quyển sách thì weighted_rating là nhiêu, ý là random user rating books giá trị weighted_rating"
   ]
  },
  {
   "cell_type": "code",
   "execution_count": null,
   "metadata": {
    "vscode": {
     "languageId": "plaintext"
    }
   },
   "outputs": [],
   "source": [
    "recommendation_df = top_users_ratings.groupby(\"ISBN\").agg({\"weighted_rating\": \"mean\"})\n",
    "recommendation_df"
   ]
  },
  {
   "attachments": {},
   "cell_type": "markdown",
   "metadata": {},
   "source": [
    "Bước 3: Lọc ra những quyển được rating trên 6"
   ]
  },
  {
   "cell_type": "code",
   "execution_count": null,
   "metadata": {
    "vscode": {
     "languageId": "plaintext"
    }
   },
   "outputs": [],
   "source": [
    "books_to_be_recommend = recommendation_df[recommendation_df[\"weighted_rating\"] > 6].sort_values(\"weighted_rating\", ascending=False)\n",
    "books_to_be_recommend = books_to_be_recommend.reset_index()\n",
    "books_to_be_recommend"
   ]
  },
  {
   "attachments": {},
   "cell_type": "markdown",
   "metadata": {},
   "source": [
    "Bước 4: Gắn thông tin sách lên id của sách ở bảng trên vào bảng books_to_be_recommended_info"
   ]
  },
  {
   "cell_type": "code",
   "execution_count": null,
   "metadata": {
    "vscode": {
     "languageId": "plaintext"
    }
   },
   "outputs": [],
   "source": [
    "books_to_be_recommend_info = books_to_be_recommend.merge(books[[\"ISBN\", \"Book-Title\"]])\n",
    "books_to_be_recommend_info"
   ]
  },
  {
   "attachments": {},
   "cell_type": "markdown",
   "metadata": {},
   "source": [
    "Bước 5: Lấy top 5 quyển là xong"
   ]
  },
  {
   "cell_type": "code",
   "execution_count": null,
   "metadata": {
    "vscode": {
     "languageId": "plaintext"
    }
   },
   "outputs": [],
   "source": [
    "recommended = list(books_to_be_recommend_info[\"Book-Title\"].loc[0:5])\n",
    "recommended"
   ]
  }
 ],
 "metadata": {
  "language_info": {
   "name": "python"
  },
  "orig_nbformat": 4
 },
 "nbformat": 4,
 "nbformat_minor": 2
}
