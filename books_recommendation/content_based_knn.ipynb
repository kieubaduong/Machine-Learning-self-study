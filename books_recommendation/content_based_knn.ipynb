{
 "cells": [
  {
   "attachments": {},
   "cell_type": "markdown",
   "metadata": {},
   "source": [
    "## 1. Tổng quan bộ dataset"
   ]
  },
  {
   "attachments": {},
   "cell_type": "markdown",
   "metadata": {},
   "source": [
    "- Books data: Cung cấp tổng quan chi tiết về thông tin sách bao gồm tên sách, năm xuất bản cũng như tác giả của cuốn sách\n",
    "- Users data: Cung cấp tổng quan chi tiết về từng người dùng, chẳng hạn như vị trí của người dùng cũng như độ tuổi của người dùng\n",
    "- Rating data: Dữ liệu được tổng hợp cơ bản về cách mỗi người dùng xếp hạng từng cuốn sách"
   ]
  },
  {
   "cell_type": "code",
   "execution_count": 70,
   "metadata": {},
   "outputs": [],
   "source": [
    "import pandas as pd\n",
    "import numpy as np\n",
    "import math\n",
    "import matplotlib.pyplot as plt\n",
    "from scipy import sparse\n",
    "from sklearn.neighbors import NearestNeighbors\n",
    "from sklearn.impute import SimpleImputer\n",
    "import missingno as msno"
   ]
  },
  {
   "attachments": {},
   "cell_type": "markdown",
   "metadata": {},
   "source": [
    "Load từng dataset lên"
   ]
  },
  {
   "cell_type": "code",
   "execution_count": 71,
   "metadata": {},
   "outputs": [
    {
     "name": "stderr",
     "output_type": "stream",
     "text": [
      "C:\\Users\\kieub\\AppData\\Local\\Temp\\ipykernel_15508\\47795284.py:1: DtypeWarning: Columns (3) have mixed types. Specify dtype option on import or set low_memory=False.\n",
      "  df_books = pd.read_csv('../archive/Books.csv', delimiter=\",\", usecols = [0,1,2,3,4])\n"
     ]
    }
   ],
   "source": [
    "df_books = pd.read_csv('../archive/Books.csv', delimiter=\",\", usecols = [0,1,2,3,4])\n",
    "df_Users = pd.read_csv(\"../archive/Users.csv\")\n",
    "df_rating = pd.read_csv(\"../archive/Ratings.csv\")"
   ]
  },
  {
   "attachments": {},
   "cell_type": "markdown",
   "metadata": {},
   "source": [
    "## 2. Tiền xử lý data"
   ]
  },
  {
   "attachments": {},
   "cell_type": "markdown",
   "metadata": {},
   "source": [
    "### 2.1 Books dataset"
   ]
  },
  {
   "cell_type": "code",
   "execution_count": 72,
   "metadata": {},
   "outputs": [
    {
     "name": "stdout",
     "output_type": "stream",
     "text": [
      "<class 'pandas.core.frame.DataFrame'>\n",
      "RangeIndex: 271360 entries, 0 to 271359\n",
      "Data columns (total 5 columns):\n",
      " #   Column               Non-Null Count   Dtype \n",
      "---  ------               --------------   ----- \n",
      " 0   ISBN                 271360 non-null  object\n",
      " 1   Book-Title           271360 non-null  object\n",
      " 2   Book-Author          271358 non-null  object\n",
      " 3   Year-Of-Publication  271360 non-null  object\n",
      " 4   Publisher            271358 non-null  object\n",
      "dtypes: object(5)\n",
      "memory usage: 10.4+ MB\n"
     ]
    }
   ],
   "source": [
    "df_books.info()"
   ]
  },
  {
   "attachments": {},
   "cell_type": "markdown",
   "metadata": {},
   "source": [
    "Ta có thể thấy cột Year-Of-Publication đang ở dạng object, vì vậy ta cần phải chuyển nó về int"
   ]
  },
  {
   "cell_type": "code",
   "execution_count": 73,
   "metadata": {},
   "outputs": [
    {
     "name": "stdout",
     "output_type": "stream",
     "text": [
      "invalid literal for int() with base 10: 'DK Publishing Inc'\n"
     ]
    }
   ],
   "source": [
    "try:\n",
    "    df_books['Year-Of-Publication']  = df_books['Year-Of-Publication'].astype(int)\n",
    "except Exception as e:\n",
    "    print(e)"
   ]
  },
  {
   "attachments": {},
   "cell_type": "markdown",
   "metadata": {},
   "source": [
    "Chotto, có những sách có trường Year-Of-Publication có giá trị là 'DK Publishing Inc'. Vậy ta sẽ in thử những quyển đó là quyển nào"
   ]
  },
  {
   "cell_type": "code",
   "execution_count": 74,
   "metadata": {},
   "outputs": [
    {
     "name": "stdout",
     "output_type": "stream",
     "text": [
      "              ISBN                                         Book-Title   \n",
      "209538  078946697X  DK Readers: Creating the X-Men, How It All Beg...  \\\n",
      "221678  0789466953  DK Readers: Creating the X-Men, How Comic Book...   \n",
      "\n",
      "       Book-Author Year-Of-Publication   \n",
      "209538        2000   DK Publishing Inc  \\\n",
      "221678        2000   DK Publishing Inc   \n",
      "\n",
      "                                                Publisher  \n",
      "209538  http://images.amazon.com/images/P/078946697X.0...  \n",
      "221678  http://images.amazon.com/images/P/0789466953.0...  \n"
     ]
    }
   ],
   "source": [
    "print(df_books[df_books['Year-Of-Publication'] == 'DK Publishing Inc'])"
   ]
  },
  {
   "attachments": {},
   "cell_type": "markdown",
   "metadata": {},
   "source": [
    "Giờ ta sẽ chuyển data ở cột Year-Of-Publication sang dạng số, data nào không convert được sẽ ở dạng NaN"
   ]
  },
  {
   "cell_type": "code",
   "execution_count": 75,
   "metadata": {},
   "outputs": [
    {
     "name": "stdout",
     "output_type": "stream",
     "text": [
      "<class 'pandas.core.frame.DataFrame'>\n",
      "RangeIndex: 271360 entries, 0 to 271359\n",
      "Data columns (total 5 columns):\n",
      " #   Column               Non-Null Count   Dtype  \n",
      "---  ------               --------------   -----  \n",
      " 0   ISBN                 271360 non-null  object \n",
      " 1   Book-Title           271360 non-null  object \n",
      " 2   Book-Author          271358 non-null  object \n",
      " 3   Year-Of-Publication  271357 non-null  float64\n",
      " 4   Publisher            271358 non-null  object \n",
      "dtypes: float64(1), object(4)\n",
      "memory usage: 10.4+ MB\n",
      "None\n"
     ]
    }
   ],
   "source": [
    "df_books['Year-Of-Publication'] = pd.to_numeric(df_books['Year-Of-Publication'],errors='coerce')\n",
    "print(df_books.info())"
   ]
  },
  {
   "attachments": {},
   "cell_type": "markdown",
   "metadata": {},
   "source": [
    "Có thể thấy cột Year-Of-Publication tuy convert sang số nhưng lại ở dạng float64, bây giờ chúng ta sẽ loại bỏ các record có value là NaN và ép kiểu cột này thành int32"
   ]
  },
  {
   "cell_type": "code",
   "execution_count": 76,
   "metadata": {},
   "outputs": [
    {
     "name": "stdout",
     "output_type": "stream",
     "text": [
      "<class 'pandas.core.frame.DataFrame'>\n",
      "Index: 271353 entries, 0 to 271359\n",
      "Data columns (total 5 columns):\n",
      " #   Column               Non-Null Count   Dtype \n",
      "---  ------               --------------   ----- \n",
      " 0   ISBN                 271353 non-null  object\n",
      " 1   Book-Title           271353 non-null  object\n",
      " 2   Book-Author          271353 non-null  object\n",
      " 3   Year-Of-Publication  271353 non-null  int32 \n",
      " 4   Publisher            271353 non-null  object\n",
      "dtypes: int32(1), object(4)\n",
      "memory usage: 11.4+ MB\n",
      "None\n"
     ]
    }
   ],
   "source": [
    "df_books = df_books.dropna()\n",
    "df_books['Year-Of-Publication'] = df_books['Year-Of-Publication'].astype(int)\n",
    "print(df_books.info())"
   ]
  },
  {
   "cell_type": "code",
   "execution_count": 77,
   "metadata": {},
   "outputs": [
    {
     "data": {
      "text/html": [
       "<div>\n",
       "<style scoped>\n",
       "    .dataframe tbody tr th:only-of-type {\n",
       "        vertical-align: middle;\n",
       "    }\n",
       "\n",
       "    .dataframe tbody tr th {\n",
       "        vertical-align: top;\n",
       "    }\n",
       "\n",
       "    .dataframe thead th {\n",
       "        text-align: right;\n",
       "    }\n",
       "</style>\n",
       "<table border=\"1\" class=\"dataframe\">\n",
       "  <thead>\n",
       "    <tr style=\"text-align: right;\">\n",
       "      <th></th>\n",
       "      <th>ISBN</th>\n",
       "      <th>Book-Title</th>\n",
       "      <th>Book-Author</th>\n",
       "      <th>Year-Of-Publication</th>\n",
       "      <th>Publisher</th>\n",
       "    </tr>\n",
       "  </thead>\n",
       "  <tbody>\n",
       "    <tr>\n",
       "      <th>0</th>\n",
       "      <td>0195153448</td>\n",
       "      <td>Classical Mythology</td>\n",
       "      <td>Mark P. O. Morford</td>\n",
       "      <td>2002</td>\n",
       "      <td>Oxford University Press</td>\n",
       "    </tr>\n",
       "    <tr>\n",
       "      <th>1</th>\n",
       "      <td>0002005018</td>\n",
       "      <td>Clara Callan</td>\n",
       "      <td>Richard Bruce Wright</td>\n",
       "      <td>2001</td>\n",
       "      <td>HarperFlamingo Canada</td>\n",
       "    </tr>\n",
       "    <tr>\n",
       "      <th>2</th>\n",
       "      <td>0060973129</td>\n",
       "      <td>Decision in Normandy</td>\n",
       "      <td>Carlo D'Este</td>\n",
       "      <td>1991</td>\n",
       "      <td>HarperPerennial</td>\n",
       "    </tr>\n",
       "    <tr>\n",
       "      <th>3</th>\n",
       "      <td>0374157065</td>\n",
       "      <td>Flu: The Story of the Great Influenza Pandemic...</td>\n",
       "      <td>Gina Bari Kolata</td>\n",
       "      <td>1999</td>\n",
       "      <td>Farrar Straus Giroux</td>\n",
       "    </tr>\n",
       "    <tr>\n",
       "      <th>4</th>\n",
       "      <td>0393045218</td>\n",
       "      <td>The Mummies of Urumchi</td>\n",
       "      <td>E. J. W. Barber</td>\n",
       "      <td>1999</td>\n",
       "      <td>W. W. Norton &amp;amp; Company</td>\n",
       "    </tr>\n",
       "  </tbody>\n",
       "</table>\n",
       "</div>"
      ],
      "text/plain": [
       "         ISBN                                         Book-Title   \n",
       "0  0195153448                                Classical Mythology  \\\n",
       "1  0002005018                                       Clara Callan   \n",
       "2  0060973129                               Decision in Normandy   \n",
       "3  0374157065  Flu: The Story of the Great Influenza Pandemic...   \n",
       "4  0393045218                             The Mummies of Urumchi   \n",
       "\n",
       "            Book-Author  Year-Of-Publication                   Publisher  \n",
       "0    Mark P. O. Morford                 2002     Oxford University Press  \n",
       "1  Richard Bruce Wright                 2001       HarperFlamingo Canada  \n",
       "2          Carlo D'Este                 1991             HarperPerennial  \n",
       "3      Gina Bari Kolata                 1999        Farrar Straus Giroux  \n",
       "4       E. J. W. Barber                 1999  W. W. Norton &amp; Company  "
      ]
     },
     "execution_count": 77,
     "metadata": {},
     "output_type": "execute_result"
    }
   ],
   "source": [
    "df_books.head()"
   ]
  },
  {
   "attachments": {},
   "cell_type": "markdown",
   "metadata": {},
   "source": [
    "Vậy là xử lý xong trường Year-Of-Publication của Books dataset"
   ]
  },
  {
   "attachments": {},
   "cell_type": "markdown",
   "metadata": {},
   "source": [
    "Giờ vẽ thử cái đồ thị biểu thị số lượng sách được phân phối ở mỗi năm"
   ]
  },
  {
   "cell_type": "code",
   "execution_count": 78,
   "metadata": {},
   "outputs": [
    {
     "data": {
      "text/plain": [
       "<BarContainer object of 116 artists>"
      ]
     },
     "execution_count": 78,
     "metadata": {},
     "output_type": "execute_result"
    },
    {
     "data": {
      "image/png": "[encoded data removed]",
      "text/plain": [
       "<Figure size 640x480 with 1 Axes>"
      ]
     },
     "metadata": {},
     "output_type": "display_data"
    }
   ],
   "source": [
    "plt.bar(pd.DataFrame(df_books['Year-Of-Publication'].value_counts()).sort_index().index, np.array(df_books['Year-Of-Publication'].value_counts()), width = 1)"
   ]
  },
  {
   "cell_type": "markdown",
   "metadata": {},
   "source": [
    "Có 2 điểm nhận xét ở đồ thị ở trên:\n",
    "- Hầu hết sách được publish từ 1700~2000s\n",
    "- Vẫn có những quyển publish bé hơn 1000s, nên giờ ta sẽ impute value của những record này"
   ]
  },
  {
   "cell_type": "code",
   "execution_count": 79,
   "metadata": {},
   "outputs": [
    {
     "name": "stdout",
     "output_type": "stream",
     "text": [
      "Empty DataFrame\n",
      "Columns: [ISBN, Book-Title, Book-Author, Year-Of-Publication, Publisher]\n",
      "Index: []\n"
     ]
    }
   ],
   "source": [
    "# Tạo bản sao của cột \"Year-Of-Publication\"\n",
    "df_books_imputed = df_books.copy()\n",
    "\n",
    "# Thay thế các giá trị năm xuất bản dưới 1000 bằng NaN\n",
    "df_books_imputed.loc[df_books_imputed['Year-Of-Publication'] < 1000, 'Year-Of-Publication'] = np.nan\n",
    "\n",
    "# Tính mode mean của cột \"Year-Of-Publication\"\n",
    "year_mean = df_books_imputed['Year-Of-Publication'].mode()[0]\n",
    "\n",
    "# Thay thế các giá trị NaN bằng mode mean\n",
    "df_books_imputed['Year-Of-Publication'].fillna(year_mean, inplace=True)\n",
    "\n",
    "df_books = df_books_imputed\n",
    "\n",
    "print(df_books.loc[df_books['Year-Of-Publication'] < 1000])\n"
   ]
  },
  {
   "attachments": {},
   "cell_type": "markdown",
   "metadata": {},
   "source": [
    "Sử dụng thư viện missingno để kiểm tra Books dataset lần cuối"
   ]
  },
  {
   "cell_type": "code",
   "execution_count": 80,
   "metadata": {},
   "outputs": [
    {
     "data": {
      "text/plain": [
       "<Axes: >"
      ]
     },
     "execution_count": 80,
     "metadata": {},
     "output_type": "execute_result"
    },
    {
     "data": {
      "image/png": "[encoded data removed]",
      "text/plain": [
       "<Figure size 2500x1000 with 2 Axes>"
      ]
     },
     "metadata": {},
     "output_type": "display_data"
    }
   ],
   "source": [
    "msno.matrix(df_books)"
   ]
  },
  {
   "attachments": {},
   "cell_type": "markdown",
   "metadata": {},
   "source": [
    "### 2.2 Users dataset"
   ]
  },
  {
   "cell_type": "code",
   "execution_count": 81,
   "metadata": {},
   "outputs": [
    {
     "name": "stdout",
     "output_type": "stream",
     "text": [
      "<class 'pandas.core.frame.DataFrame'>\n",
      "RangeIndex: 278858 entries, 0 to 278857\n",
      "Data columns (total 3 columns):\n",
      " #   Column    Non-Null Count   Dtype  \n",
      "---  ------    --------------   -----  \n",
      " 0   User-ID   278858 non-null  int64  \n",
      " 1   Location  278858 non-null  object \n",
      " 2   Age       168096 non-null  float64\n",
      "dtypes: float64(1), int64(1), object(1)\n",
      "memory usage: 6.4+ MB\n"
     ]
    }
   ],
   "source": [
    "df_Users.info()"
   ]
  },
  {
   "attachments": {},
   "cell_type": "markdown",
   "metadata": {},
   "source": [
    "Dễ dàng thấy được trường Age đang ở kiểu float64 và tuổi thì làm sao có kiểu thập phân được nhỉ :)), vậy nên ta sẽ ép kiểu nó sang int32"
   ]
  },
  {
   "cell_type": "code",
   "execution_count": 82,
   "metadata": {},
   "outputs": [
    {
     "name": "stdout",
     "output_type": "stream",
     "text": [
      "<class 'pandas.core.frame.DataFrame'>\n",
      "RangeIndex: 278858 entries, 0 to 278857\n",
      "Data columns (total 3 columns):\n",
      " #   Column    Non-Null Count   Dtype \n",
      "---  ------    --------------   ----- \n",
      " 0   User-ID   278858 non-null  int64 \n",
      " 1   Location  278858 non-null  object\n",
      " 2   Age       168096 non-null  Int32 \n",
      "dtypes: Int32(1), int64(1), object(1)\n",
      "memory usage: 5.6+ MB\n"
     ]
    }
   ],
   "source": [
    "df_Users['Age'] = df_Users['Age'].astype('Int32')\n",
    "df_Users.info()"
   ]
  },
  {
   "attachments": {},
   "cell_type": "markdown",
   "metadata": {},
   "source": [
    "Giờ ta sẽ dùng thư viện missingno để check xem có record nào bị trống data không"
   ]
  },
  {
   "cell_type": "code",
   "execution_count": 83,
   "metadata": {},
   "outputs": [
    {
     "data": {
      "text/plain": [
       "<Axes: >"
      ]
     },
     "execution_count": 83,
     "metadata": {},
     "output_type": "execute_result"
    },
    {
     "data": {
      "image/png": "[encoded data removed]",
      "text/plain": [
       "<Figure size 2500x1000 with 2 Axes>"
      ]
     },
     "metadata": {},
     "output_type": "display_data"
    }
   ],
   "source": [
    "msno.matrix(df_Users)"
   ]
  },
  {
   "attachments": {},
   "cell_type": "markdown",
   "metadata": {},
   "source": [
    "Nhìn hình ta thấy, trường Age bị trống quá chời vậy ta sẽ fill nó bằng cách lấy trung bình"
   ]
  },
  {
   "cell_type": "code",
   "execution_count": 84,
   "metadata": {},
   "outputs": [
    {
     "data": {
      "text/plain": [
       "<Axes: >"
      ]
     },
     "execution_count": 84,
     "metadata": {},
     "output_type": "execute_result"
    },
    {
     "data": {
      "image/png": "[encoded data removed]",
      "text/plain": [
       "<Figure size 2500x1000 with 2 Axes>"
      ]
     },
     "metadata": {},
     "output_type": "display_data"
    }
   ],
   "source": [
    "# Tính giá trị trung bình của trường Age\n",
    "age_mean = df_Users['Age'].mean()\n",
    "\n",
    "# Làm tròn dưới giá trị trung bình\n",
    "age_mean = math.floor(age_mean)\n",
    "\n",
    "# Điền giá trị trung bình hoặc median vào những giá trị trống\n",
    "df_Users['Age'].fillna(age_mean, inplace=True)\n",
    "\n",
    "# In ra kết quả\n",
    "msno.matrix(df_Users)"
   ]
  },
  {
   "attachments": {},
   "cell_type": "markdown",
   "metadata": {},
   "source": [
    "### 2.3 Rating dataset"
   ]
  },
  {
   "cell_type": "code",
   "execution_count": 85,
   "metadata": {},
   "outputs": [
    {
     "name": "stdout",
     "output_type": "stream",
     "text": [
      "<class 'pandas.core.frame.DataFrame'>\n",
      "RangeIndex: 1149780 entries, 0 to 1149779\n",
      "Data columns (total 3 columns):\n",
      " #   Column       Non-Null Count    Dtype \n",
      "---  ------       --------------    ----- \n",
      " 0   User-ID      1149780 non-null  int64 \n",
      " 1   ISBN         1149780 non-null  object\n",
      " 2   Book-Rating  1149780 non-null  int64 \n",
      "dtypes: int64(2), object(1)\n",
      "memory usage: 26.3+ MB\n"
     ]
    }
   ],
   "source": [
    "df_rating.info()"
   ]
  },
  {
   "cell_type": "code",
   "execution_count": 86,
   "metadata": {},
   "outputs": [
    {
     "data": {
      "text/html": [
       "<div>\n",
       "<style scoped>\n",
       "    .dataframe tbody tr th:only-of-type {\n",
       "        vertical-align: middle;\n",
       "    }\n",
       "\n",
       "    .dataframe tbody tr th {\n",
       "        vertical-align: top;\n",
       "    }\n",
       "\n",
       "    .dataframe thead th {\n",
       "        text-align: right;\n",
       "    }\n",
       "</style>\n",
       "<table border=\"1\" class=\"dataframe\">\n",
       "  <thead>\n",
       "    <tr style=\"text-align: right;\">\n",
       "      <th></th>\n",
       "      <th>User-ID</th>\n",
       "      <th>ISBN</th>\n",
       "      <th>Book-Rating</th>\n",
       "    </tr>\n",
       "  </thead>\n",
       "  <tbody>\n",
       "    <tr>\n",
       "      <th>0</th>\n",
       "      <td>276725</td>\n",
       "      <td>034545104X</td>\n",
       "      <td>0</td>\n",
       "    </tr>\n",
       "    <tr>\n",
       "      <th>1</th>\n",
       "      <td>276726</td>\n",
       "      <td>0155061224</td>\n",
       "      <td>5</td>\n",
       "    </tr>\n",
       "    <tr>\n",
       "      <th>2</th>\n",
       "      <td>276727</td>\n",
       "      <td>0446520802</td>\n",
       "      <td>0</td>\n",
       "    </tr>\n",
       "    <tr>\n",
       "      <th>3</th>\n",
       "      <td>276729</td>\n",
       "      <td>052165615X</td>\n",
       "      <td>3</td>\n",
       "    </tr>\n",
       "    <tr>\n",
       "      <th>4</th>\n",
       "      <td>276729</td>\n",
       "      <td>0521795028</td>\n",
       "      <td>6</td>\n",
       "    </tr>\n",
       "  </tbody>\n",
       "</table>\n",
       "</div>"
      ],
      "text/plain": [
       "   User-ID        ISBN  Book-Rating\n",
       "0   276725  034545104X            0\n",
       "1   276726  0155061224            5\n",
       "2   276727  0446520802            0\n",
       "3   276729  052165615X            3\n",
       "4   276729  0521795028            6"
      ]
     },
     "execution_count": 86,
     "metadata": {},
     "output_type": "execute_result"
    }
   ],
   "source": [
    "df_rating.head()"
   ]
  },
  {
   "attachments": {},
   "cell_type": "markdown",
   "metadata": {},
   "source": [
    "Lúc trước khi xử lý Books và Users dataset thì ta có xóa các record của Books dataset có data lỗi nên giờ ta sẽ \"clean\" lại Rating dataset bằng cách remove những book đã được remove trước đó"
   ]
  },
  {
   "cell_type": "code",
   "execution_count": 87,
   "metadata": {},
   "outputs": [
    {
     "name": "stdout",
     "output_type": "stream",
     "text": [
      "Number of data before cleaning : 1149780\n",
      "Number of data after cleaning : 1031128\n"
     ]
    }
   ],
   "source": [
    "print('Number of data before cleaning : {}'.format(len(df_rating)))\n",
    "df_rating = df_rating[df_rating['ISBN'].isin(df_books['ISBN'])]\n",
    "print('Number of data after cleaning : {}'.format(len(df_rating)))"
   ]
  },
  {
   "attachments": {},
   "cell_type": "markdown",
   "metadata": {},
   "source": [
    "Giờ ta sẽ clean Rating dataset theo 2 tiêu chí sau:\n",
    "- Một quyển sách được xem là tin cậy khi nó được\n",
    "vote bởi ít nhất 10 users\n",
    "- Một user đáng tin cậy khi user đó đã vote ít nhất\n",
    "10 books"
   ]
  },
  {
   "cell_type": "code",
   "execution_count": 88,
   "metadata": {},
   "outputs": [],
   "source": [
    "f = ['count','mean']\n",
    "\n",
    "# Tạo một dataframe mới chứa các thông tin về số lượng và điểm trung bình của mỗi cuốn sách\n",
    "df_books_summary = df_rating.groupby('ISBN')['Book-Rating'].agg(f)\n",
    "df_books_summary.index = df_books_summary.index.map(str)\n",
    "\n",
    "# drop_book_list là danh sách các cuốn sách có số lượng đánh giá ít hơn 10\n",
    "drop_book_list = df_books_summary[df_books_summary['count'] < 10].index\n",
    "\n",
    "# Tạo một dataframe mới chứa các thông tin về số lượng và điểm trung bình của mỗi người dùng\n",
    "df_cust_summary = df_rating.groupby('User-ID')['Book-Rating'].agg(f)\n",
    "df_cust_summary.index = df_cust_summary.index.map(int)\n",
    "\n",
    "# drop_cust_list là danh sách các người dùng có số lượng đánh giá ít hơn 10\n",
    "drop_cust_list = df_cust_summary[df_cust_summary['count'] < 10].index\n"
   ]
  },
  {
   "cell_type": "code",
   "execution_count": 89,
   "metadata": {},
   "outputs": [
    {
     "name": "stdout",
     "output_type": "stream",
     "text": [
      "Before Filtering: (1031128, 3)\n",
      "After Filtering: (428085, 3)\n"
     ]
    },
    {
     "data": {
      "text/html": [
       "<div>\n",
       "<style scoped>\n",
       "    .dataframe tbody tr th:only-of-type {\n",
       "        vertical-align: middle;\n",
       "    }\n",
       "\n",
       "    .dataframe tbody tr th {\n",
       "        vertical-align: top;\n",
       "    }\n",
       "\n",
       "    .dataframe thead th {\n",
       "        text-align: right;\n",
       "    }\n",
       "</style>\n",
       "<table border=\"1\" class=\"dataframe\">\n",
       "  <thead>\n",
       "    <tr style=\"text-align: right;\">\n",
       "      <th></th>\n",
       "      <th>User-ID</th>\n",
       "      <th>ISBN</th>\n",
       "      <th>Book-Rating</th>\n",
       "    </tr>\n",
       "  </thead>\n",
       "  <tbody>\n",
       "    <tr>\n",
       "      <th>31</th>\n",
       "      <td>276762</td>\n",
       "      <td>034544003X</td>\n",
       "      <td>0</td>\n",
       "    </tr>\n",
       "    <tr>\n",
       "      <th>33</th>\n",
       "      <td>276762</td>\n",
       "      <td>0380711524</td>\n",
       "      <td>5</td>\n",
       "    </tr>\n",
       "    <tr>\n",
       "      <th>34</th>\n",
       "      <td>276762</td>\n",
       "      <td>0451167317</td>\n",
       "      <td>0</td>\n",
       "    </tr>\n",
       "    <tr>\n",
       "      <th>89</th>\n",
       "      <td>276798</td>\n",
       "      <td>3423084049</td>\n",
       "      <td>0</td>\n",
       "    </tr>\n",
       "    <tr>\n",
       "      <th>97</th>\n",
       "      <td>276798</td>\n",
       "      <td>3548603203</td>\n",
       "      <td>6</td>\n",
       "    </tr>\n",
       "  </tbody>\n",
       "</table>\n",
       "</div>"
      ],
      "text/plain": [
       "    User-ID        ISBN  Book-Rating\n",
       "31   276762  034544003X            0\n",
       "33   276762  0380711524            5\n",
       "34   276762  0451167317            0\n",
       "89   276798  3423084049            0\n",
       "97   276798  3548603203            6"
      ]
     },
     "execution_count": 89,
     "metadata": {},
     "output_type": "execute_result"
    }
   ],
   "source": [
    "print('Before Filtering: {}'.format(df_rating.shape))\n",
    "# df_rating là dataframe chứa các cuốn sách và người dùng có số lượng đánh giá lớn hơn 10\n",
    "# ~ là phủ định\n",
    "df_rating = df_rating[~df_rating['ISBN'].isin(drop_book_list)]\n",
    "df_rating = df_rating[~df_rating['User-ID'].isin(drop_cust_list)]\n",
    "print('After Filtering: {}'.format(df_rating.shape))\n",
    "df_rating.head()"
   ]
  },
  {
   "cell_type": "code",
   "execution_count": 90,
   "metadata": {},
   "outputs": [
    {
     "data": {
      "text/html": [
       "<div>\n",
       "<style scoped>\n",
       "    .dataframe tbody tr th:only-of-type {\n",
       "        vertical-align: middle;\n",
       "    }\n",
       "\n",
       "    .dataframe tbody tr th {\n",
       "        vertical-align: top;\n",
       "    }\n",
       "\n",
       "    .dataframe thead th {\n",
       "        text-align: right;\n",
       "    }\n",
       "</style>\n",
       "<table border=\"1\" class=\"dataframe\">\n",
       "  <thead>\n",
       "    <tr style=\"text-align: right;\">\n",
       "      <th>User-ID</th>\n",
       "      <th>8</th>\n",
       "      <th>99</th>\n",
       "      <th>242</th>\n",
       "      <th>243</th>\n",
       "      <th>254</th>\n",
       "      <th>383</th>\n",
       "      <th>388</th>\n",
       "      <th>408</th>\n",
       "      <th>424</th>\n",
       "      <th>446</th>\n",
       "      <th>...</th>\n",
       "      <th>278522</th>\n",
       "      <th>278535</th>\n",
       "      <th>278554</th>\n",
       "      <th>278563</th>\n",
       "      <th>278582</th>\n",
       "      <th>278633</th>\n",
       "      <th>278637</th>\n",
       "      <th>278771</th>\n",
       "      <th>278843</th>\n",
       "      <th>278851</th>\n",
       "    </tr>\n",
       "    <tr>\n",
       "      <th>ISBN</th>\n",
       "      <th></th>\n",
       "      <th></th>\n",
       "      <th></th>\n",
       "      <th></th>\n",
       "      <th></th>\n",
       "      <th></th>\n",
       "      <th></th>\n",
       "      <th></th>\n",
       "      <th></th>\n",
       "      <th></th>\n",
       "      <th></th>\n",
       "      <th></th>\n",
       "      <th></th>\n",
       "      <th></th>\n",
       "      <th></th>\n",
       "      <th></th>\n",
       "      <th></th>\n",
       "      <th></th>\n",
       "      <th></th>\n",
       "      <th></th>\n",
       "      <th></th>\n",
       "    </tr>\n",
       "  </thead>\n",
       "  <tbody>\n",
       "    <tr>\n",
       "      <th>0002005018</th>\n",
       "      <td>5.0</td>\n",
       "      <td>NaN</td>\n",
       "      <td>NaN</td>\n",
       "      <td>NaN</td>\n",
       "      <td>NaN</td>\n",
       "      <td>NaN</td>\n",
       "      <td>NaN</td>\n",
       "      <td>NaN</td>\n",
       "      <td>NaN</td>\n",
       "      <td>NaN</td>\n",
       "      <td>...</td>\n",
       "      <td>NaN</td>\n",
       "      <td>NaN</td>\n",
       "      <td>NaN</td>\n",
       "      <td>NaN</td>\n",
       "      <td>NaN</td>\n",
       "      <td>NaN</td>\n",
       "      <td>NaN</td>\n",
       "      <td>NaN</td>\n",
       "      <td>NaN</td>\n",
       "      <td>NaN</td>\n",
       "    </tr>\n",
       "    <tr>\n",
       "      <th>0002251760</th>\n",
       "      <td>NaN</td>\n",
       "      <td>NaN</td>\n",
       "      <td>NaN</td>\n",
       "      <td>NaN</td>\n",
       "      <td>NaN</td>\n",
       "      <td>NaN</td>\n",
       "      <td>NaN</td>\n",
       "      <td>NaN</td>\n",
       "      <td>NaN</td>\n",
       "      <td>NaN</td>\n",
       "      <td>...</td>\n",
       "      <td>NaN</td>\n",
       "      <td>NaN</td>\n",
       "      <td>NaN</td>\n",
       "      <td>NaN</td>\n",
       "      <td>NaN</td>\n",
       "      <td>NaN</td>\n",
       "      <td>NaN</td>\n",
       "      <td>NaN</td>\n",
       "      <td>NaN</td>\n",
       "      <td>NaN</td>\n",
       "    </tr>\n",
       "    <tr>\n",
       "      <th>0002255081</th>\n",
       "      <td>NaN</td>\n",
       "      <td>NaN</td>\n",
       "      <td>NaN</td>\n",
       "      <td>NaN</td>\n",
       "      <td>NaN</td>\n",
       "      <td>NaN</td>\n",
       "      <td>NaN</td>\n",
       "      <td>NaN</td>\n",
       "      <td>NaN</td>\n",
       "      <td>NaN</td>\n",
       "      <td>...</td>\n",
       "      <td>NaN</td>\n",
       "      <td>NaN</td>\n",
       "      <td>NaN</td>\n",
       "      <td>NaN</td>\n",
       "      <td>NaN</td>\n",
       "      <td>NaN</td>\n",
       "      <td>NaN</td>\n",
       "      <td>NaN</td>\n",
       "      <td>NaN</td>\n",
       "      <td>NaN</td>\n",
       "    </tr>\n",
       "    <tr>\n",
       "      <th>0002257203</th>\n",
       "      <td>NaN</td>\n",
       "      <td>NaN</td>\n",
       "      <td>NaN</td>\n",
       "      <td>NaN</td>\n",
       "      <td>NaN</td>\n",
       "      <td>NaN</td>\n",
       "      <td>NaN</td>\n",
       "      <td>NaN</td>\n",
       "      <td>NaN</td>\n",
       "      <td>NaN</td>\n",
       "      <td>...</td>\n",
       "      <td>NaN</td>\n",
       "      <td>NaN</td>\n",
       "      <td>NaN</td>\n",
       "      <td>NaN</td>\n",
       "      <td>NaN</td>\n",
       "      <td>NaN</td>\n",
       "      <td>NaN</td>\n",
       "      <td>NaN</td>\n",
       "      <td>NaN</td>\n",
       "      <td>NaN</td>\n",
       "    </tr>\n",
       "    <tr>\n",
       "      <th>0002259834</th>\n",
       "      <td>NaN</td>\n",
       "      <td>NaN</td>\n",
       "      <td>NaN</td>\n",
       "      <td>NaN</td>\n",
       "      <td>NaN</td>\n",
       "      <td>NaN</td>\n",
       "      <td>NaN</td>\n",
       "      <td>NaN</td>\n",
       "      <td>NaN</td>\n",
       "      <td>NaN</td>\n",
       "      <td>...</td>\n",
       "      <td>NaN</td>\n",
       "      <td>NaN</td>\n",
       "      <td>NaN</td>\n",
       "      <td>NaN</td>\n",
       "      <td>NaN</td>\n",
       "      <td>NaN</td>\n",
       "      <td>NaN</td>\n",
       "      <td>NaN</td>\n",
       "      <td>NaN</td>\n",
       "      <td>NaN</td>\n",
       "    </tr>\n",
       "  </tbody>\n",
       "</table>\n",
       "<p>5 rows × 11598 columns</p>\n",
       "</div>"
      ],
      "text/plain": [
       "User-ID     8       99      242     243     254     383     388     408      \n",
       "ISBN                                                                         \n",
       "0002005018     5.0     NaN     NaN     NaN     NaN     NaN     NaN     NaN  \\\n",
       "0002251760     NaN     NaN     NaN     NaN     NaN     NaN     NaN     NaN   \n",
       "0002255081     NaN     NaN     NaN     NaN     NaN     NaN     NaN     NaN   \n",
       "0002257203     NaN     NaN     NaN     NaN     NaN     NaN     NaN     NaN   \n",
       "0002259834     NaN     NaN     NaN     NaN     NaN     NaN     NaN     NaN   \n",
       "\n",
       "User-ID     424     446     ...  278522  278535  278554  278563  278582   \n",
       "ISBN                        ...                                           \n",
       "0002005018     NaN     NaN  ...     NaN     NaN     NaN     NaN     NaN  \\\n",
       "0002251760     NaN     NaN  ...     NaN     NaN     NaN     NaN     NaN   \n",
       "0002255081     NaN     NaN  ...     NaN     NaN     NaN     NaN     NaN   \n",
       "0002257203     NaN     NaN  ...     NaN     NaN     NaN     NaN     NaN   \n",
       "0002259834     NaN     NaN  ...     NaN     NaN     NaN     NaN     NaN   \n",
       "\n",
       "User-ID     278633  278637  278771  278843  278851  \n",
       "ISBN                                                \n",
       "0002005018     NaN     NaN     NaN     NaN     NaN  \n",
       "0002251760     NaN     NaN     NaN     NaN     NaN  \n",
       "0002255081     NaN     NaN     NaN     NaN     NaN  \n",
       "0002257203     NaN     NaN     NaN     NaN     NaN  \n",
       "0002259834     NaN     NaN     NaN     NaN     NaN  \n",
       "\n",
       "[5 rows x 11598 columns]"
      ]
     },
     "execution_count": 90,
     "metadata": {},
     "output_type": "execute_result"
    }
   ],
   "source": [
    "# pivot_rating là dataframe chứa các giá trị đánh giá của các cuốn sách theo từng người dùng\n",
    "pivot_rating = df_rating.pivot(index='ISBN',columns='User-ID',values='Book-Rating')\n",
    "pivot_rating.head()"
   ]
  },
  {
   "attachments": {},
   "cell_type": "markdown",
   "metadata": {},
   "source": [
    "## 3. Xây dựng model"
   ]
  },
  {
   "attachments": {},
   "cell_type": "markdown",
   "metadata": {},
   "source": [
    "### 3.1 Content-based"
   ]
  },
  {
   "attachments": {},
   "cell_type": "markdown",
   "metadata": {},
   "source": [
    "Ý tưởng đơn giản của giải thuật content_based sẽ là:\n",
    "- Pick ra một user\n",
    "- Tìm ra quyển sách user được vote cao nhất\n",
    "- Tìm những quyển sách giống với quyển sách được user vote cao nhất\n",
    "- Recommend những quyển này tới cho user"
   ]
  },
  {
   "attachments": {},
   "cell_type": "markdown",
   "metadata": {},
   "source": [
    "Một user có thể có xu hướng đọc một quyển sách khác dựa trên những yếu tố sau:\n",
    "- Authors: dễ hình dung là bởi mỗi tác giả sẽ có một phong cách riêng nên việc một user thích phong cách của tác giả này thì sẽ có khả năng thích những quyển còn lại của tác giả đó luôn\n",
    "- Year-Of-Publication: năm xuất bản có khả năng phản ảnh một phần thể loại của quyển sách. Ví dụ dễ hiểu là là những quyển sách triết lý cổ điển thì thường có năm xuất bản lâu đời\n",
    "- Publisher: nhà xuất bản thì chứa một điểm uy tín nhất định đối với những người đọc có chọn lọc"
   ]
  },
  {
   "attachments": {},
   "cell_type": "markdown",
   "metadata": {},
   "source": [
    "Như vậy 3 yếu tố Authors, Year-Of-Publication, Publisher là các yếu tố nền tảng cho giải thuật"
   ]
  },
  {
   "cell_type": "code",
   "execution_count": 91,
   "metadata": {},
   "outputs": [
    {
     "data": {
      "text/plain": [
       "271353"
      ]
     },
     "execution_count": 91,
     "metadata": {},
     "output_type": "execute_result"
    }
   ],
   "source": [
    "len(df_books['ISBN'])"
   ]
  },
  {
   "attachments": {},
   "cell_type": "markdown",
   "metadata": {},
   "source": [
    "Lúc trước chúng ta đã clean Rating dataset bằng cách loại bỏ những rating không đáng tin cậy. Bây giờ khi recommend cho user chúng ta chỉ sử dụng những quyển sách có trong Rating dataset thôi"
   ]
  },
  {
   "cell_type": "code",
   "execution_count": 92,
   "metadata": {},
   "outputs": [
    {
     "name": "stdout",
     "output_type": "stream",
     "text": [
      "number of books: 17478\n"
     ]
    }
   ],
   "source": [
    "print (\"number of books: \" + str(len(df_books[df_books['ISBN'].isin(df_rating['ISBN'])].copy())))"
   ]
  },
  {
   "cell_type": "code",
   "execution_count": 93,
   "metadata": {},
   "outputs": [],
   "source": [
    "features = ['Book-Author', 'Year-Of-Publication', 'Publisher', 'Book-Title']\n",
    "\n",
    "# df_books_preprocess là dataframe chứa các cuốn sách có trong df_rating\n",
    "df_books_preprocess = df_books[df_books['ISBN'].isin(df_rating['ISBN'])].copy()\n",
    "\n",
    "for feature in features:\n",
    "    # Nếu feature là kiểu dữ liệu object\n",
    "    if df_books_preprocess[feature].dtype == 'O':\n",
    "        # Thay thế các ký tự đặc biệt bằng ''\n",
    "        df_books_preprocess[feature] = df_books_preprocess[feature].str.replace('\\W', '', regex=True)\n",
    "        # Chuyển về chữ thường\n",
    "        df_books_preprocess[feature] = df_books_preprocess[feature].apply(lambda x: str.lower(x))"
   ]
  },
  {
   "attachments": {},
   "cell_type": "markdown",
   "metadata": {},
   "source": [
    "Tạo ra một cột mới trong dataframe df_books_preprocess có tên là soup. Cột này được tạo ra bằng cách kết hợp thông tin từ các trường Book-Author, Year-Of-Publication, và Publisher của mỗi quyển sách thành một chuỗi đại diện cho nội dung của sách, được gọi là \"soup\". Đây là bước tiền xử lý dữ liệu để sử dụng trong việc tính toán độ tương đồng giữa các quyển sách trong quá trình gợi ý sách cho người dùng."
   ]
  },
  {
   "cell_type": "code",
   "execution_count": 94,
   "metadata": {},
   "outputs": [
    {
     "data": {
      "text/html": [
       "<div>\n",
       "<style scoped>\n",
       "    .dataframe tbody tr th:only-of-type {\n",
       "        vertical-align: middle;\n",
       "    }\n",
       "\n",
       "    .dataframe tbody tr th {\n",
       "        vertical-align: top;\n",
       "    }\n",
       "\n",
       "    .dataframe thead th {\n",
       "        text-align: right;\n",
       "    }\n",
       "</style>\n",
       "<table border=\"1\" class=\"dataframe\">\n",
       "  <thead>\n",
       "    <tr style=\"text-align: right;\">\n",
       "      <th></th>\n",
       "      <th>ISBN</th>\n",
       "      <th>Book-Title</th>\n",
       "      <th>Book-Author</th>\n",
       "      <th>Year-Of-Publication</th>\n",
       "      <th>Publisher</th>\n",
       "      <th>soup</th>\n",
       "    </tr>\n",
       "  </thead>\n",
       "  <tbody>\n",
       "    <tr>\n",
       "      <th>1</th>\n",
       "      <td>0002005018</td>\n",
       "      <td>claracallan</td>\n",
       "      <td>richardbrucewright</td>\n",
       "      <td>2001.0</td>\n",
       "      <td>harperflamingocanada</td>\n",
       "      <td>richardbrucewright 2001.0 harperflamingocanada</td>\n",
       "    </tr>\n",
       "    <tr>\n",
       "      <th>3</th>\n",
       "      <td>0374157065</td>\n",
       "      <td>fluthestoryofthegreatinfluenzapandemicof1918an...</td>\n",
       "      <td>ginabarikolata</td>\n",
       "      <td>1999.0</td>\n",
       "      <td>farrarstrausgiroux</td>\n",
       "      <td>ginabarikolata 1999.0 farrarstrausgiroux</td>\n",
       "    </tr>\n",
       "    <tr>\n",
       "      <th>5</th>\n",
       "      <td>0399135782</td>\n",
       "      <td>thekitchengodswife</td>\n",
       "      <td>amytan</td>\n",
       "      <td>1991.0</td>\n",
       "      <td>putnampubgroup</td>\n",
       "      <td>amytan 1991.0 putnampubgroup</td>\n",
       "    </tr>\n",
       "    <tr>\n",
       "      <th>18</th>\n",
       "      <td>0440234743</td>\n",
       "      <td>thetestament</td>\n",
       "      <td>johngrisham</td>\n",
       "      <td>1999.0</td>\n",
       "      <td>dell</td>\n",
       "      <td>johngrisham 1999.0 dell</td>\n",
       "    </tr>\n",
       "    <tr>\n",
       "      <th>19</th>\n",
       "      <td>0452264464</td>\n",
       "      <td>belovedplumecontemporaryfiction</td>\n",
       "      <td>tonimorrison</td>\n",
       "      <td>1994.0</td>\n",
       "      <td>plume</td>\n",
       "      <td>tonimorrison 1994.0 plume</td>\n",
       "    </tr>\n",
       "  </tbody>\n",
       "</table>\n",
       "</div>"
      ],
      "text/plain": [
       "          ISBN                                         Book-Title   \n",
       "1   0002005018                                        claracallan  \\\n",
       "3   0374157065  fluthestoryofthegreatinfluenzapandemicof1918an...   \n",
       "5   0399135782                                 thekitchengodswife   \n",
       "18  0440234743                                       thetestament   \n",
       "19  0452264464                    belovedplumecontemporaryfiction   \n",
       "\n",
       "           Book-Author  Year-Of-Publication             Publisher   \n",
       "1   richardbrucewright               2001.0  harperflamingocanada  \\\n",
       "3       ginabarikolata               1999.0    farrarstrausgiroux   \n",
       "5               amytan               1991.0        putnampubgroup   \n",
       "18         johngrisham               1999.0                  dell   \n",
       "19        tonimorrison               1994.0                 plume   \n",
       "\n",
       "                                              soup  \n",
       "1   richardbrucewright 2001.0 harperflamingocanada  \n",
       "3         ginabarikolata 1999.0 farrarstrausgiroux  \n",
       "5                     amytan 1991.0 putnampubgroup  \n",
       "18                         johngrisham 1999.0 dell  \n",
       "19                       tonimorrison 1994.0 plume  "
      ]
     },
     "execution_count": 94,
     "metadata": {},
     "output_type": "execute_result"
    }
   ],
   "source": [
    "# create_soup là hàm tạo một cột chứa các thông tin của các feature\n",
    "def create_soup(x):\n",
    "    # x là một dòng của dataframe\n",
    "    return x['Book-Author'] + ' ' + str(x['Year-Of-Publication'])+ ' ' + x['Publisher']\n",
    "\n",
    "# df_books_preprocess['soup'] là một cột chứa các thông tin của các feature\n",
    "# apply(create_soup, axis = 1) là áp dụng hàm create_soup cho từng dòng của dataframe\n",
    "# axis = 1 là áp dụng hàm create_soup cho từng dòng\n",
    "df_books_preprocess['soup'] = df_books_preprocess[features].apply(create_soup, axis = 1)\n",
    "\n",
    "df_books_preprocess.head()"
   ]
  },
  {
   "attachments": {},
   "cell_type": "markdown",
   "metadata": {},
   "source": [
    "Ta sẽ sử dụng cột soup để tạo ma trận đếm số từ xuất hiện của từng quyển sách"
   ]
  },
  {
   "cell_type": "code",
   "execution_count": 95,
   "metadata": {},
   "outputs": [
    {
     "data": {
      "text/html": [
       "<div>\n",
       "<style scoped>\n",
       "    .dataframe tbody tr th:only-of-type {\n",
       "        vertical-align: middle;\n",
       "    }\n",
       "\n",
       "    .dataframe tbody tr th {\n",
       "        vertical-align: top;\n",
       "    }\n",
       "\n",
       "    .dataframe thead th {\n",
       "        text-align: right;\n",
       "    }\n",
       "</style>\n",
       "<table border=\"1\" class=\"dataframe\">\n",
       "  <thead>\n",
       "    <tr style=\"text-align: right;\">\n",
       "      <th></th>\n",
       "      <th>1920</th>\n",
       "      <th>1926</th>\n",
       "      <th>1927</th>\n",
       "      <th>1929</th>\n",
       "      <th>1930</th>\n",
       "      <th>1932</th>\n",
       "      <th>1942</th>\n",
       "      <th>1943</th>\n",
       "      <th>1946</th>\n",
       "      <th>1950</th>\n",
       "      <th>...</th>\n",
       "      <th>zoeheller</th>\n",
       "      <th>zoejenny</th>\n",
       "      <th>zoeydean</th>\n",
       "      <th>zolandbooks</th>\n",
       "      <th>zondervan</th>\n",
       "      <th>zondervanpublishingcompany</th>\n",
       "      <th>zoranealehurston</th>\n",
       "      <th>zsolnay</th>\n",
       "      <th>zsuzsannaebudapest</th>\n",
       "      <th>zzpacker</th>\n",
       "    </tr>\n",
       "  </thead>\n",
       "  <tbody>\n",
       "    <tr>\n",
       "      <th>1</th>\n",
       "      <td>0</td>\n",
       "      <td>0</td>\n",
       "      <td>0</td>\n",
       "      <td>0</td>\n",
       "      <td>0</td>\n",
       "      <td>0</td>\n",
       "      <td>0</td>\n",
       "      <td>0</td>\n",
       "      <td>0</td>\n",
       "      <td>0</td>\n",
       "      <td>...</td>\n",
       "      <td>0</td>\n",
       "      <td>0</td>\n",
       "      <td>0</td>\n",
       "      <td>0</td>\n",
       "      <td>0</td>\n",
       "      <td>0</td>\n",
       "      <td>0</td>\n",
       "      <td>0</td>\n",
       "      <td>0</td>\n",
       "      <td>0</td>\n",
       "    </tr>\n",
       "    <tr>\n",
       "      <th>3</th>\n",
       "      <td>0</td>\n",
       "      <td>0</td>\n",
       "      <td>0</td>\n",
       "      <td>0</td>\n",
       "      <td>0</td>\n",
       "      <td>0</td>\n",
       "      <td>0</td>\n",
       "      <td>0</td>\n",
       "      <td>0</td>\n",
       "      <td>0</td>\n",
       "      <td>...</td>\n",
       "      <td>0</td>\n",
       "      <td>0</td>\n",
       "      <td>0</td>\n",
       "      <td>0</td>\n",
       "      <td>0</td>\n",
       "      <td>0</td>\n",
       "      <td>0</td>\n",
       "      <td>0</td>\n",
       "      <td>0</td>\n",
       "      <td>0</td>\n",
       "    </tr>\n",
       "    <tr>\n",
       "      <th>5</th>\n",
       "      <td>0</td>\n",
       "      <td>0</td>\n",
       "      <td>0</td>\n",
       "      <td>0</td>\n",
       "      <td>0</td>\n",
       "      <td>0</td>\n",
       "      <td>0</td>\n",
       "      <td>0</td>\n",
       "      <td>0</td>\n",
       "      <td>0</td>\n",
       "      <td>...</td>\n",
       "      <td>0</td>\n",
       "      <td>0</td>\n",
       "      <td>0</td>\n",
       "      <td>0</td>\n",
       "      <td>0</td>\n",
       "      <td>0</td>\n",
       "      <td>0</td>\n",
       "      <td>0</td>\n",
       "      <td>0</td>\n",
       "      <td>0</td>\n",
       "    </tr>\n",
       "    <tr>\n",
       "      <th>18</th>\n",
       "      <td>0</td>\n",
       "      <td>0</td>\n",
       "      <td>0</td>\n",
       "      <td>0</td>\n",
       "      <td>0</td>\n",
       "      <td>0</td>\n",
       "      <td>0</td>\n",
       "      <td>0</td>\n",
       "      <td>0</td>\n",
       "      <td>0</td>\n",
       "      <td>...</td>\n",
       "      <td>0</td>\n",
       "      <td>0</td>\n",
       "      <td>0</td>\n",
       "      <td>0</td>\n",
       "      <td>0</td>\n",
       "      <td>0</td>\n",
       "      <td>0</td>\n",
       "      <td>0</td>\n",
       "      <td>0</td>\n",
       "      <td>0</td>\n",
       "    </tr>\n",
       "    <tr>\n",
       "      <th>19</th>\n",
       "      <td>0</td>\n",
       "      <td>0</td>\n",
       "      <td>0</td>\n",
       "      <td>0</td>\n",
       "      <td>0</td>\n",
       "      <td>0</td>\n",
       "      <td>0</td>\n",
       "      <td>0</td>\n",
       "      <td>0</td>\n",
       "      <td>0</td>\n",
       "      <td>...</td>\n",
       "      <td>0</td>\n",
       "      <td>0</td>\n",
       "      <td>0</td>\n",
       "      <td>0</td>\n",
       "      <td>0</td>\n",
       "      <td>0</td>\n",
       "      <td>0</td>\n",
       "      <td>0</td>\n",
       "      <td>0</td>\n",
       "      <td>0</td>\n",
       "    </tr>\n",
       "    <tr>\n",
       "      <th>20</th>\n",
       "      <td>0</td>\n",
       "      <td>0</td>\n",
       "      <td>0</td>\n",
       "      <td>0</td>\n",
       "      <td>0</td>\n",
       "      <td>0</td>\n",
       "      <td>0</td>\n",
       "      <td>0</td>\n",
       "      <td>0</td>\n",
       "      <td>0</td>\n",
       "      <td>...</td>\n",
       "      <td>0</td>\n",
       "      <td>0</td>\n",
       "      <td>0</td>\n",
       "      <td>0</td>\n",
       "      <td>0</td>\n",
       "      <td>0</td>\n",
       "      <td>0</td>\n",
       "      <td>0</td>\n",
       "      <td>0</td>\n",
       "      <td>0</td>\n",
       "    </tr>\n",
       "    <tr>\n",
       "      <th>21</th>\n",
       "      <td>0</td>\n",
       "      <td>0</td>\n",
       "      <td>0</td>\n",
       "      <td>0</td>\n",
       "      <td>0</td>\n",
       "      <td>0</td>\n",
       "      <td>0</td>\n",
       "      <td>0</td>\n",
       "      <td>0</td>\n",
       "      <td>0</td>\n",
       "      <td>...</td>\n",
       "      <td>0</td>\n",
       "      <td>0</td>\n",
       "      <td>0</td>\n",
       "      <td>0</td>\n",
       "      <td>0</td>\n",
       "      <td>0</td>\n",
       "      <td>0</td>\n",
       "      <td>0</td>\n",
       "      <td>0</td>\n",
       "      <td>0</td>\n",
       "    </tr>\n",
       "    <tr>\n",
       "      <th>26</th>\n",
       "      <td>0</td>\n",
       "      <td>0</td>\n",
       "      <td>0</td>\n",
       "      <td>0</td>\n",
       "      <td>0</td>\n",
       "      <td>0</td>\n",
       "      <td>0</td>\n",
       "      <td>0</td>\n",
       "      <td>0</td>\n",
       "      <td>0</td>\n",
       "      <td>...</td>\n",
       "      <td>0</td>\n",
       "      <td>0</td>\n",
       "      <td>0</td>\n",
       "      <td>0</td>\n",
       "      <td>0</td>\n",
       "      <td>0</td>\n",
       "      <td>0</td>\n",
       "      <td>0</td>\n",
       "      <td>0</td>\n",
       "      <td>0</td>\n",
       "    </tr>\n",
       "    <tr>\n",
       "      <th>27</th>\n",
       "      <td>0</td>\n",
       "      <td>0</td>\n",
       "      <td>0</td>\n",
       "      <td>0</td>\n",
       "      <td>0</td>\n",
       "      <td>0</td>\n",
       "      <td>0</td>\n",
       "      <td>0</td>\n",
       "      <td>0</td>\n",
       "      <td>0</td>\n",
       "      <td>...</td>\n",
       "      <td>0</td>\n",
       "      <td>0</td>\n",
       "      <td>0</td>\n",
       "      <td>0</td>\n",
       "      <td>0</td>\n",
       "      <td>0</td>\n",
       "      <td>0</td>\n",
       "      <td>0</td>\n",
       "      <td>0</td>\n",
       "      <td>0</td>\n",
       "    </tr>\n",
       "    <tr>\n",
       "      <th>28</th>\n",
       "      <td>0</td>\n",
       "      <td>0</td>\n",
       "      <td>0</td>\n",
       "      <td>0</td>\n",
       "      <td>0</td>\n",
       "      <td>0</td>\n",
       "      <td>0</td>\n",
       "      <td>0</td>\n",
       "      <td>0</td>\n",
       "      <td>0</td>\n",
       "      <td>...</td>\n",
       "      <td>0</td>\n",
       "      <td>0</td>\n",
       "      <td>0</td>\n",
       "      <td>0</td>\n",
       "      <td>0</td>\n",
       "      <td>0</td>\n",
       "      <td>0</td>\n",
       "      <td>0</td>\n",
       "      <td>0</td>\n",
       "      <td>0</td>\n",
       "    </tr>\n",
       "  </tbody>\n",
       "</table>\n",
       "<p>10 rows × 6173 columns</p>\n",
       "</div>"
      ],
      "text/plain": [
       "    1920  1926  1927  1929  1930  1932  1942  1943  1946  1950  ...   \n",
       "1      0     0     0     0     0     0     0     0     0     0  ...  \\\n",
       "3      0     0     0     0     0     0     0     0     0     0  ...   \n",
       "5      0     0     0     0     0     0     0     0     0     0  ...   \n",
       "18     0     0     0     0     0     0     0     0     0     0  ...   \n",
       "19     0     0     0     0     0     0     0     0     0     0  ...   \n",
       "20     0     0     0     0     0     0     0     0     0     0  ...   \n",
       "21     0     0     0     0     0     0     0     0     0     0  ...   \n",
       "26     0     0     0     0     0     0     0     0     0     0  ...   \n",
       "27     0     0     0     0     0     0     0     0     0     0  ...   \n",
       "28     0     0     0     0     0     0     0     0     0     0  ...   \n",
       "\n",
       "    zoeheller  zoejenny  zoeydean  zolandbooks  zondervan   \n",
       "1           0         0         0            0          0  \\\n",
       "3           0         0         0            0          0   \n",
       "5           0         0         0            0          0   \n",
       "18          0         0         0            0          0   \n",
       "19          0         0         0            0          0   \n",
       "20          0         0         0            0          0   \n",
       "21          0         0         0            0          0   \n",
       "26          0         0         0            0          0   \n",
       "27          0         0         0            0          0   \n",
       "28          0         0         0            0          0   \n",
       "\n",
       "    zondervanpublishingcompany  zoranealehurston  zsolnay  zsuzsannaebudapest   \n",
       "1                            0                 0        0                   0  \\\n",
       "3                            0                 0        0                   0   \n",
       "5                            0                 0        0                   0   \n",
       "18                           0                 0        0                   0   \n",
       "19                           0                 0        0                   0   \n",
       "20                           0                 0        0                   0   \n",
       "21                           0                 0        0                   0   \n",
       "26                           0                 0        0                   0   \n",
       "27                           0                 0        0                   0   \n",
       "28                           0                 0        0                   0   \n",
       "\n",
       "    zzpacker  \n",
       "1          0  \n",
       "3          0  \n",
       "5          0  \n",
       "18         0  \n",
       "19         0  \n",
       "20         0  \n",
       "21         0  \n",
       "26         0  \n",
       "27         0  \n",
       "28         0  \n",
       "\n",
       "[10 rows x 6173 columns]"
      ]
     },
     "execution_count": 95,
     "metadata": {},
     "output_type": "execute_result"
    }
   ],
   "source": [
    "from sklearn.feature_extraction.text import CountVectorizer\n",
    "\n",
    "# Tạo một ma trận chứa các từ xuất hiện trong các cuốn sách\n",
    "# stop_words='english' là loại bỏ các từ không cần thiết\n",
    "# count_matrix là ma trận chứa các từ xuất hiện trong các cuốn sách\n",
    "# count_matrix[i][j] là số lần từ j xuất hiện trong cuốn sách i\n",
    "count = CountVectorizer(stop_words='english')\n",
    "count_matrix = count.fit_transform(df_books_preprocess['soup'])\n",
    "\n",
    "# Tạo DataFrame từ ma trận count_matrix\n",
    "count_df = pd.DataFrame(count_matrix.toarray(), index=df_books_preprocess.index, columns=count.get_feature_names_out())\n",
    "\n",
    "# In ra 10 hàng đầu tiên của count_df\n",
    "count_df.head(10)"
   ]
  },
  {
   "attachments": {},
   "cell_type": "markdown",
   "metadata": {},
   "source": [
    "Từ ma trận count_matrix ta có thể tính độ tương đồng giữa các cuốn sách bằng khoảng cách cosin"
   ]
  },
  {
   "cell_type": "code",
   "execution_count": 96,
   "metadata": {},
   "outputs": [
    {
     "data": {
      "text/html": [
       "<div>\n",
       "<style scoped>\n",
       "    .dataframe tbody tr th:only-of-type {\n",
       "        vertical-align: middle;\n",
       "    }\n",
       "\n",
       "    .dataframe tbody tr th {\n",
       "        vertical-align: top;\n",
       "    }\n",
       "\n",
       "    .dataframe thead th {\n",
       "        text-align: right;\n",
       "    }\n",
       "</style>\n",
       "<table border=\"1\" class=\"dataframe\">\n",
       "  <thead>\n",
       "    <tr style=\"text-align: right;\">\n",
       "      <th>Book-Title</th>\n",
       "      <th>claracallan</th>\n",
       "      <th>fluthestoryofthegreatinfluenzapandemicof1918andthesearchforthevirusthatcausedit</th>\n",
       "      <th>thekitchengodswife</th>\n",
       "      <th>thetestament</th>\n",
       "      <th>belovedplumecontemporaryfiction</th>\n",
       "      <th>ourdumbcenturytheonionpresents100yearsofheadlinesfromamericasfinestnewssource</th>\n",
       "      <th>newvegetarianboldandbeautifulrecipesforeveryoccasion</th>\n",
       "      <th>wildanimus</th>\n",
       "      <th>airframe</th>\n",
       "      <th>timeline</th>\n",
       "      <th>...</th>\n",
       "      <th>lãâcherdiegeheimnissevongreenlakeab12j</th>\n",
       "      <th>diesãâulendererde</th>\n",
       "      <th>imischameijerinmargineinmemoriam</th>\n",
       "      <th>amendedesschweigensroman</th>\n",
       "      <th>derspaziergangprosastãâ¼ckeundkleineprosa</th>\n",
       "      <th>cosifantutteeinegeschichte</th>\n",
       "      <th>theillustratedalchemistafableaboutfollowingyourdream</th>\n",
       "      <th>theangelmaker</th>\n",
       "      <th>theendlessstepperackgrowingupinsiberia</th>\n",
       "      <th>theicehousetvtieinedition</th>\n",
       "    </tr>\n",
       "    <tr>\n",
       "      <th>Book-Title</th>\n",
       "      <th></th>\n",
       "      <th></th>\n",
       "      <th></th>\n",
       "      <th></th>\n",
       "      <th></th>\n",
       "      <th></th>\n",
       "      <th></th>\n",
       "      <th></th>\n",
       "      <th></th>\n",
       "      <th></th>\n",
       "      <th></th>\n",
       "      <th></th>\n",
       "      <th></th>\n",
       "      <th></th>\n",
       "      <th></th>\n",
       "      <th></th>\n",
       "      <th></th>\n",
       "      <th></th>\n",
       "      <th></th>\n",
       "      <th></th>\n",
       "      <th></th>\n",
       "    </tr>\n",
       "  </thead>\n",
       "  <tbody>\n",
       "    <tr>\n",
       "      <th>claracallan</th>\n",
       "      <td>1.0</td>\n",
       "      <td>0.000000</td>\n",
       "      <td>0.0</td>\n",
       "      <td>0.000000</td>\n",
       "      <td>0.0</td>\n",
       "      <td>0.000000</td>\n",
       "      <td>0.333333</td>\n",
       "      <td>0.0</td>\n",
       "      <td>0.0</td>\n",
       "      <td>0.0</td>\n",
       "      <td>...</td>\n",
       "      <td>0.0</td>\n",
       "      <td>0.0</td>\n",
       "      <td>0.333333</td>\n",
       "      <td>0.0</td>\n",
       "      <td>0.0</td>\n",
       "      <td>0.0</td>\n",
       "      <td>0.0</td>\n",
       "      <td>0.333333</td>\n",
       "      <td>0.0</td>\n",
       "      <td>0.0</td>\n",
       "    </tr>\n",
       "    <tr>\n",
       "      <th>fluthestoryofthegreatinfluenzapandemicof1918andthesearchforthevirusthatcausedit</th>\n",
       "      <td>0.0</td>\n",
       "      <td>1.000000</td>\n",
       "      <td>0.0</td>\n",
       "      <td>0.333333</td>\n",
       "      <td>0.0</td>\n",
       "      <td>0.333333</td>\n",
       "      <td>0.000000</td>\n",
       "      <td>0.0</td>\n",
       "      <td>0.0</td>\n",
       "      <td>0.0</td>\n",
       "      <td>...</td>\n",
       "      <td>0.0</td>\n",
       "      <td>0.0</td>\n",
       "      <td>0.000000</td>\n",
       "      <td>0.0</td>\n",
       "      <td>0.0</td>\n",
       "      <td>0.0</td>\n",
       "      <td>0.0</td>\n",
       "      <td>0.000000</td>\n",
       "      <td>0.0</td>\n",
       "      <td>0.0</td>\n",
       "    </tr>\n",
       "    <tr>\n",
       "      <th>thekitchengodswife</th>\n",
       "      <td>0.0</td>\n",
       "      <td>0.000000</td>\n",
       "      <td>1.0</td>\n",
       "      <td>0.000000</td>\n",
       "      <td>0.0</td>\n",
       "      <td>0.000000</td>\n",
       "      <td>0.000000</td>\n",
       "      <td>0.0</td>\n",
       "      <td>0.0</td>\n",
       "      <td>0.0</td>\n",
       "      <td>...</td>\n",
       "      <td>0.0</td>\n",
       "      <td>0.0</td>\n",
       "      <td>0.000000</td>\n",
       "      <td>0.0</td>\n",
       "      <td>0.0</td>\n",
       "      <td>0.0</td>\n",
       "      <td>0.0</td>\n",
       "      <td>0.000000</td>\n",
       "      <td>0.0</td>\n",
       "      <td>0.0</td>\n",
       "    </tr>\n",
       "    <tr>\n",
       "      <th>thetestament</th>\n",
       "      <td>0.0</td>\n",
       "      <td>0.333333</td>\n",
       "      <td>0.0</td>\n",
       "      <td>1.000000</td>\n",
       "      <td>0.0</td>\n",
       "      <td>0.333333</td>\n",
       "      <td>0.000000</td>\n",
       "      <td>0.0</td>\n",
       "      <td>0.0</td>\n",
       "      <td>0.0</td>\n",
       "      <td>...</td>\n",
       "      <td>0.0</td>\n",
       "      <td>0.0</td>\n",
       "      <td>0.000000</td>\n",
       "      <td>0.0</td>\n",
       "      <td>0.0</td>\n",
       "      <td>0.0</td>\n",
       "      <td>0.0</td>\n",
       "      <td>0.000000</td>\n",
       "      <td>0.0</td>\n",
       "      <td>0.0</td>\n",
       "    </tr>\n",
       "    <tr>\n",
       "      <th>belovedplumecontemporaryfiction</th>\n",
       "      <td>0.0</td>\n",
       "      <td>0.000000</td>\n",
       "      <td>0.0</td>\n",
       "      <td>0.000000</td>\n",
       "      <td>1.0</td>\n",
       "      <td>0.000000</td>\n",
       "      <td>0.000000</td>\n",
       "      <td>0.0</td>\n",
       "      <td>0.0</td>\n",
       "      <td>0.0</td>\n",
       "      <td>...</td>\n",
       "      <td>0.0</td>\n",
       "      <td>0.0</td>\n",
       "      <td>0.000000</td>\n",
       "      <td>0.0</td>\n",
       "      <td>0.0</td>\n",
       "      <td>0.0</td>\n",
       "      <td>0.0</td>\n",
       "      <td>0.000000</td>\n",
       "      <td>0.0</td>\n",
       "      <td>0.0</td>\n",
       "    </tr>\n",
       "  </tbody>\n",
       "</table>\n",
       "<p>5 rows × 17478 columns</p>\n",
       "</div>"
      ],
      "text/plain": [
       "Book-Title                                          claracallan   \n",
       "Book-Title                                                        \n",
       "claracallan                                                 1.0  \\\n",
       "fluthestoryofthegreatinfluenzapandemicof1918and...          0.0   \n",
       "thekitchengodswife                                          0.0   \n",
       "thetestament                                                0.0   \n",
       "belovedplumecontemporaryfiction                             0.0   \n",
       "\n",
       "Book-Title                                          fluthestoryofthegreatinfluenzapandemicof1918andthesearchforthevirusthatcausedit   \n",
       "Book-Title                                                                                                                            \n",
       "claracallan                                                                                  0.000000                                \\\n",
       "fluthestoryofthegreatinfluenzapandemicof1918and...                                           1.000000                                 \n",
       "thekitchengodswife                                                                           0.000000                                 \n",
       "thetestament                                                                                 0.333333                                 \n",
       "belovedplumecontemporaryfiction                                                              0.000000                                 \n",
       "\n",
       "Book-Title                                          thekitchengodswife   \n",
       "Book-Title                                                               \n",
       "claracallan                                                        0.0  \\\n",
       "fluthestoryofthegreatinfluenzapandemicof1918and...                 0.0   \n",
       "thekitchengodswife                                                 1.0   \n",
       "thetestament                                                       0.0   \n",
       "belovedplumecontemporaryfiction                                    0.0   \n",
       "\n",
       "Book-Title                                          thetestament   \n",
       "Book-Title                                                         \n",
       "claracallan                                             0.000000  \\\n",
       "fluthestoryofthegreatinfluenzapandemicof1918and...      0.333333   \n",
       "thekitchengodswife                                      0.000000   \n",
       "thetestament                                            1.000000   \n",
       "belovedplumecontemporaryfiction                         0.000000   \n",
       "\n",
       "Book-Title                                          belovedplumecontemporaryfiction   \n",
       "Book-Title                                                                            \n",
       "claracallan                                                                     0.0  \\\n",
       "fluthestoryofthegreatinfluenzapandemicof1918and...                              0.0   \n",
       "thekitchengodswife                                                              0.0   \n",
       "thetestament                                                                    0.0   \n",
       "belovedplumecontemporaryfiction                                                 1.0   \n",
       "\n",
       "Book-Title                                          ourdumbcenturytheonionpresents100yearsofheadlinesfromamericasfinestnewssource   \n",
       "Book-Title                                                                                                                          \n",
       "claracallan                                                                                  0.000000                              \\\n",
       "fluthestoryofthegreatinfluenzapandemicof1918and...                                           0.333333                               \n",
       "thekitchengodswife                                                                           0.000000                               \n",
       "thetestament                                                                                 0.333333                               \n",
       "belovedplumecontemporaryfiction                                                              0.000000                               \n",
       "\n",
       "Book-Title                                          newvegetarianboldandbeautifulrecipesforeveryoccasion   \n",
       "Book-Title                                                                                                 \n",
       "claracallan                                                                                  0.333333     \\\n",
       "fluthestoryofthegreatinfluenzapandemicof1918and...                                           0.000000      \n",
       "thekitchengodswife                                                                           0.000000      \n",
       "thetestament                                                                                 0.000000      \n",
       "belovedplumecontemporaryfiction                                                              0.000000      \n",
       "\n",
       "Book-Title                                          wildanimus  airframe   \n",
       "Book-Title                                                                 \n",
       "claracallan                                                0.0       0.0  \\\n",
       "fluthestoryofthegreatinfluenzapandemicof1918and...         0.0       0.0   \n",
       "thekitchengodswife                                         0.0       0.0   \n",
       "thetestament                                               0.0       0.0   \n",
       "belovedplumecontemporaryfiction                            0.0       0.0   \n",
       "\n",
       "Book-Title                                          timeline  ...   \n",
       "Book-Title                                                    ...   \n",
       "claracallan                                              0.0  ...  \\\n",
       "fluthestoryofthegreatinfluenzapandemicof1918and...       0.0  ...   \n",
       "thekitchengodswife                                       0.0  ...   \n",
       "thetestament                                             0.0  ...   \n",
       "belovedplumecontemporaryfiction                          0.0  ...   \n",
       "\n",
       "Book-Title                                          lãâcherdiegeheimnissevongreenlakeab12j   \n",
       "Book-Title                                                                                   \n",
       "claracallan                                                                            0.0  \\\n",
       "fluthestoryofthegreatinfluenzapandemicof1918and...                                     0.0   \n",
       "thekitchengodswife                                                                     0.0   \n",
       "thetestament                                                                           0.0   \n",
       "belovedplumecontemporaryfiction                                                        0.0   \n",
       "\n",
       "Book-Title                                          diesãâulendererde   \n",
       "Book-Title                                                              \n",
       "claracallan                                                       0.0  \\\n",
       "fluthestoryofthegreatinfluenzapandemicof1918and...                0.0   \n",
       "thekitchengodswife                                                0.0   \n",
       "thetestament                                                      0.0   \n",
       "belovedplumecontemporaryfiction                                   0.0   \n",
       "\n",
       "Book-Title                                          imischameijerinmargineinmemoriam   \n",
       "Book-Title                                                                             \n",
       "claracallan                                                                 0.333333  \\\n",
       "fluthestoryofthegreatinfluenzapandemicof1918and...                          0.000000   \n",
       "thekitchengodswife                                                          0.000000   \n",
       "thetestament                                                                0.000000   \n",
       "belovedplumecontemporaryfiction                                             0.000000   \n",
       "\n",
       "Book-Title                                          amendedesschweigensroman   \n",
       "Book-Title                                                                     \n",
       "claracallan                                                              0.0  \\\n",
       "fluthestoryofthegreatinfluenzapandemicof1918and...                       0.0   \n",
       "thekitchengodswife                                                       0.0   \n",
       "thetestament                                                             0.0   \n",
       "belovedplumecontemporaryfiction                                          0.0   \n",
       "\n",
       "Book-Title                                          derspaziergangprosastãâ¼ckeundkleineprosa   \n",
       "Book-Title                                                                                      \n",
       "claracallan                                                                               0.0  \\\n",
       "fluthestoryofthegreatinfluenzapandemicof1918and...                                        0.0   \n",
       "thekitchengodswife                                                                        0.0   \n",
       "thetestament                                                                              0.0   \n",
       "belovedplumecontemporaryfiction                                                           0.0   \n",
       "\n",
       "Book-Title                                          cosifantutteeinegeschichte   \n",
       "Book-Title                                                                       \n",
       "claracallan                                                                0.0  \\\n",
       "fluthestoryofthegreatinfluenzapandemicof1918and...                         0.0   \n",
       "thekitchengodswife                                                         0.0   \n",
       "thetestament                                                               0.0   \n",
       "belovedplumecontemporaryfiction                                            0.0   \n",
       "\n",
       "Book-Title                                          theillustratedalchemistafableaboutfollowingyourdream   \n",
       "Book-Title                                                                                                 \n",
       "claracallan                                                                                       0.0     \\\n",
       "fluthestoryofthegreatinfluenzapandemicof1918and...                                                0.0      \n",
       "thekitchengodswife                                                                                0.0      \n",
       "thetestament                                                                                      0.0      \n",
       "belovedplumecontemporaryfiction                                                                   0.0      \n",
       "\n",
       "Book-Title                                          theangelmaker   \n",
       "Book-Title                                                          \n",
       "claracallan                                              0.333333  \\\n",
       "fluthestoryofthegreatinfluenzapandemicof1918and...       0.000000   \n",
       "thekitchengodswife                                       0.000000   \n",
       "thetestament                                             0.000000   \n",
       "belovedplumecontemporaryfiction                          0.000000   \n",
       "\n",
       "Book-Title                                          theendlessstepperackgrowingupinsiberia   \n",
       "Book-Title                                                                                   \n",
       "claracallan                                                                            0.0  \\\n",
       "fluthestoryofthegreatinfluenzapandemicof1918and...                                     0.0   \n",
       "thekitchengodswife                                                                     0.0   \n",
       "thetestament                                                                           0.0   \n",
       "belovedplumecontemporaryfiction                                                        0.0   \n",
       "\n",
       "Book-Title                                          theicehousetvtieinedition  \n",
       "Book-Title                                                                     \n",
       "claracallan                                                               0.0  \n",
       "fluthestoryofthegreatinfluenzapandemicof1918and...                        0.0  \n",
       "thekitchengodswife                                                        0.0  \n",
       "thetestament                                                              0.0  \n",
       "belovedplumecontemporaryfiction                                           0.0  \n",
       "\n",
       "[5 rows x 17478 columns]"
      ]
     },
     "execution_count": 96,
     "metadata": {},
     "output_type": "execute_result"
    }
   ],
   "source": [
    "from sklearn.metrics.pairwise import cosine_similarity\n",
    "\n",
    "# Tính độ tương đồng giữa các cuốn sách\n",
    "# cosine_sim2 là ma trận chứa độ tương đồng giữa các cuốn sách\n",
    "# giá trị cosine_sim2[i][j] là độ tương đồng giữa cuốn sách i và cuốn sách j\n",
    "# cosine_sim2[i][j] chạy từ 0 đến 1, 1 là độ tương đồng cao nhất\n",
    "cosine_sim2 = cosine_similarity(count_matrix, count_matrix)\n",
    "\n",
    "# Chuyển ma trận cosine_sim2 thành DataFrame\n",
    "cosine_sim2_df = pd.DataFrame(cosine_sim2, index=df_books_preprocess['Book-Title'], columns=df_books_preprocess['Book-Title'])\n",
    "cosine_sim2_df.head()"
   ]
  },
  {
   "attachments": {},
   "cell_type": "markdown",
   "metadata": {},
   "source": [
    "Ta sử dụng ISBN của book để query data nhưng dataframe cosine_sim2 lại không có index hay column để query theo ISBN nên ta sẽ tạo một hashmap indices với mỗi ISBN sẽ map đúng index trên cosine_sim2"
   ]
  },
  {
   "cell_type": "code",
   "execution_count": 97,
   "metadata": {},
   "outputs": [],
   "source": [
    "# df2 có cấu trúc giống như df_books_preprocess nhưng có thêm cột index để lưu chỉ số của các cuốn sách\n",
    "df2 = df_books_preprocess.reset_index()\n",
    "\n",
    "# indices là một hashmap với key là ISBN và value là chỉ số của cuốn sách\n",
    "indices = pd.Series(df2.index, index=df2['ISBN'])"
   ]
  },
  {
   "attachments": {},
   "cell_type": "markdown",
   "metadata": {},
   "source": [
    "Hàm recommend_books ta sẽ truyền vào mã ISBN của sách sau đó từ mã ISBN đó mới query trong cosine_sim để tìm ra những quyển sách liên quan tới quyển có mã ISBN nhất. Sau đó lấy 10 cuốn thôi"
   ]
  },
  {
   "cell_type": "code",
   "execution_count": 98,
   "metadata": {},
   "outputs": [],
   "source": [
    "# recommend_books là hàm trả về 10 cuốn sách tương tự nhất với cuốn sách có ISBN là ISBN\n",
    "def recommend_books(ISBN, cosine_sim):\n",
    "    # idx là chỉ số của cuốn sách có ISBN là ISBN\n",
    "    idx = indices[ISBN]\n",
    "\n",
    "    # sim_scores là một list chứa các cặp (chỉ số, độ tương đồng)\n",
    "    sim_scores = list(enumerate(cosine_sim[idx]))\n",
    "    \n",
    "    # Sắp xếp các cặp (chỉ số, độ tương đồng) theo độ tương đồng giảm dần\n",
    "    sim_scores = sorted(sim_scores, key=lambda x: x[1], reverse=True)\n",
    "    \n",
    "    # Lấy 10 cặp (chỉ số, độ tương đồng) đầu tiên\n",
    "    sim_scores = sim_scores[1:11]\n",
    "\n",
    "    # book_indices là một list chứa các chỉ số của các cuốn sách tương tự nhất\n",
    "    book_indices = [i[0] for i in sim_scores]\n",
    "\n",
    "    # Trả về 10 cuốn sách tương tự nhất và độ tương đồng của chúng\n",
    "    return df2[['Book-Title','soup']].iloc[book_indices], sim_scores"
   ]
  },
  {
   "cell_type": "code",
   "execution_count": 110,
   "metadata": {},
   "outputs": [],
   "source": [
    "# get_recommendations là hàm trả về 10 cuốn sách tương tự nhất với cuốn sách mà người dùng có User-ID là userid đánh giá cao nhất\n",
    "def get_recommendations(userid, cosine_sim):\n",
    "    # ISBN là cuốn sách mà người dùng có User-ID là userid đánh giá cao nhất\n",
    "    ISBN = df_rating['ISBN'].loc[df_rating[df_rating['User-ID'] == userid]['Book-Rating'].idxmax()]\n",
    "\n",
    "    # recommendation là 10 cuốn sách tương tự nhất với cuốn sách có ISBN là ISBN\n",
    "    # sim_score là độ tương đồng của 10 cuốn sách tương tự nhất với cuốn sách có ISBN là ISBN\n",
    "    recommendation, sim_score = recommend_books(ISBN, cosine_sim)\n",
    "\n",
    "    # df_recommend là dataframe chứa 10 cuốn sách tương tự nhất với cuốn sách có ISBN là ISBN\n",
    "    df_recommend = pd.DataFrame(recommendation)\n",
    "    # Thêm cột Cosine_Similarity chứa độ tương đồng của 10 cuốn sách tương tự nhất với cuốn sách có ISBN là ISBN\n",
    "    df_recommend['Cosine_Similarity'] = sim_score\n",
    "    # hàm apply(lambda x: x[1]) là lấy phần tử thứ 2 của cặp (chỉ số, độ tương đồng)\n",
    "    df_recommend['Cosine_Similarity'] = df_recommend['Cosine_Similarity'].apply(lambda x: x[1])\n",
    "\n",
    "    return df_recommend"
   ]
  },
  {
   "attachments": {},
   "cell_type": "markdown",
   "metadata": {},
   "source": [
    "Ok, giờ thử với user-id 8"
   ]
  },
  {
   "cell_type": "code",
   "execution_count": 111,
   "metadata": {},
   "outputs": [
    {
     "data": {
      "text/html": [
       "<div>\n",
       "<style scoped>\n",
       "    .dataframe tbody tr th:only-of-type {\n",
       "        vertical-align: middle;\n",
       "    }\n",
       "\n",
       "    .dataframe tbody tr th {\n",
       "        vertical-align: top;\n",
       "    }\n",
       "\n",
       "    .dataframe thead th {\n",
       "        text-align: right;\n",
       "    }\n",
       "</style>\n",
       "<table border=\"1\" class=\"dataframe\">\n",
       "  <thead>\n",
       "    <tr style=\"text-align: right;\">\n",
       "      <th></th>\n",
       "      <th>ISBN</th>\n",
       "      <th>Book-Title</th>\n",
       "      <th>Book-Author</th>\n",
       "      <th>Year-Of-Publication</th>\n",
       "      <th>Publisher</th>\n",
       "      <th>Book-Rating</th>\n",
       "    </tr>\n",
       "  </thead>\n",
       "  <tbody>\n",
       "    <tr>\n",
       "      <th>0</th>\n",
       "      <td>0002005018</td>\n",
       "      <td>Clara Callan</td>\n",
       "      <td>Richard Bruce Wright</td>\n",
       "      <td>2001.0</td>\n",
       "      <td>HarperFlamingo Canada</td>\n",
       "      <td>5</td>\n",
       "    </tr>\n",
       "    <tr>\n",
       "      <th>1</th>\n",
       "      <td>0374157065</td>\n",
       "      <td>Flu: The Story of the Great Influenza Pandemic...</td>\n",
       "      <td>Gina Bari Kolata</td>\n",
       "      <td>1999.0</td>\n",
       "      <td>Farrar Straus Giroux</td>\n",
       "      <td>0</td>\n",
       "    </tr>\n",
       "    <tr>\n",
       "      <th>2</th>\n",
       "      <td>0399135782</td>\n",
       "      <td>The Kitchen God's Wife</td>\n",
       "      <td>Amy Tan</td>\n",
       "      <td>1991.0</td>\n",
       "      <td>Putnam Pub Group</td>\n",
       "      <td>0</td>\n",
       "    </tr>\n",
       "  </tbody>\n",
       "</table>\n",
       "</div>"
      ],
      "text/plain": [
       "         ISBN                                         Book-Title   \n",
       "0  0002005018                                       Clara Callan  \\\n",
       "1  0374157065  Flu: The Story of the Great Influenza Pandemic...   \n",
       "2  0399135782                             The Kitchen God's Wife   \n",
       "\n",
       "            Book-Author  Year-Of-Publication              Publisher   \n",
       "0  Richard Bruce Wright               2001.0  HarperFlamingo Canada  \\\n",
       "1      Gina Bari Kolata               1999.0   Farrar Straus Giroux   \n",
       "2               Amy Tan               1991.0       Putnam Pub Group   \n",
       "\n",
       "   Book-Rating  \n",
       "0            5  \n",
       "1            0  \n",
       "2            0  "
      ]
     },
     "execution_count": 111,
     "metadata": {},
     "output_type": "execute_result"
    }
   ],
   "source": [
    "pd.concat([df_books[df_books['ISBN'].isin(list(df_rating[df_rating['User-ID'] == 8]['ISBN']))].reset_index(drop=True),df_rating[df_rating['User-ID'] == 8]['Book-Rating'].reset_index(drop=True)], axis = 1)"
   ]
  },
  {
   "attachments": {},
   "cell_type": "markdown",
   "metadata": {},
   "source": [
    "Thằng này đọc 3 quyển và rate quyển Clara Callan cao nhất"
   ]
  },
  {
   "cell_type": "code",
   "execution_count": 112,
   "metadata": {},
   "outputs": [
    {
     "data": {
      "text/html": [
       "<div>\n",
       "<style scoped>\n",
       "    .dataframe tbody tr th:only-of-type {\n",
       "        vertical-align: middle;\n",
       "    }\n",
       "\n",
       "    .dataframe tbody tr th {\n",
       "        vertical-align: top;\n",
       "    }\n",
       "\n",
       "    .dataframe thead th {\n",
       "        text-align: right;\n",
       "    }\n",
       "</style>\n",
       "<table border=\"1\" class=\"dataframe\">\n",
       "  <thead>\n",
       "    <tr style=\"text-align: right;\">\n",
       "      <th></th>\n",
       "      <th>Book-Title</th>\n",
       "      <th>soup</th>\n",
       "      <th>Cosine_Similarity</th>\n",
       "    </tr>\n",
       "  </thead>\n",
       "  <tbody>\n",
       "    <tr>\n",
       "      <th>15353</th>\n",
       "      <td>spadework</td>\n",
       "      <td>timothyfindley 2001.0 harperflamingocanada</td>\n",
       "      <td>0.666667</td>\n",
       "    </tr>\n",
       "    <tr>\n",
       "      <th>6</th>\n",
       "      <td>newvegetarianboldandbeautifulrecipesforeveryoc...</td>\n",
       "      <td>celiabrooksbrown 2001.0 rylandpetersampsmallltd</td>\n",
       "      <td>0.333333</td>\n",
       "    </tr>\n",
       "    <tr>\n",
       "      <th>19</th>\n",
       "      <td>fromthecornerofhiseye</td>\n",
       "      <td>deankoontz 2001.0 bantambooks</td>\n",
       "      <td>0.333333</td>\n",
       "    </tr>\n",
       "    <tr>\n",
       "      <th>44</th>\n",
       "      <td>elsenordelosanilloslacomunidaddelanillolordoft...</td>\n",
       "      <td>jrrtolkien 2001.0 minotauro</td>\n",
       "      <td>0.333333</td>\n",
       "    </tr>\n",
       "    <tr>\n",
       "      <th>45</th>\n",
       "      <td>elsenordelosanilloslasdostorreslordoftheringsp...</td>\n",
       "      <td>jrrtolkien 2001.0 minotauro</td>\n",
       "      <td>0.333333</td>\n",
       "    </tr>\n",
       "    <tr>\n",
       "      <th>46</th>\n",
       "      <td>elsenordelosanilloselretornodelreytolkienjrrlo...</td>\n",
       "      <td>jrrtolkien 2001.0 distribooks</td>\n",
       "      <td>0.333333</td>\n",
       "    </tr>\n",
       "    <tr>\n",
       "      <th>49</th>\n",
       "      <td>fastwomen</td>\n",
       "      <td>jennifercrusie 2001.0 stmartinspress</td>\n",
       "      <td>0.333333</td>\n",
       "    </tr>\n",
       "    <tr>\n",
       "      <th>50</th>\n",
       "      <td>femaleintelligence</td>\n",
       "      <td>janeheller 2001.0 stmartinspress</td>\n",
       "      <td>0.333333</td>\n",
       "    </tr>\n",
       "    <tr>\n",
       "      <th>63</th>\n",
       "      <td>angelsampdemons</td>\n",
       "      <td>danbrown 2001.0 pocketstar</td>\n",
       "      <td>0.333333</td>\n",
       "    </tr>\n",
       "    <tr>\n",
       "      <th>75</th>\n",
       "      <td>beforeisaygoodbye</td>\n",
       "      <td>maryhigginsclark 2001.0 pocket</td>\n",
       "      <td>0.333333</td>\n",
       "    </tr>\n",
       "  </tbody>\n",
       "</table>\n",
       "</div>"
      ],
      "text/plain": [
       "                                              Book-Title   \n",
       "15353                                          spadework  \\\n",
       "6      newvegetarianboldandbeautifulrecipesforeveryoc...   \n",
       "19                                 fromthecornerofhiseye   \n",
       "44     elsenordelosanilloslacomunidaddelanillolordoft...   \n",
       "45     elsenordelosanilloslasdostorreslordoftheringsp...   \n",
       "46     elsenordelosanilloselretornodelreytolkienjrrlo...   \n",
       "49                                             fastwomen   \n",
       "50                                    femaleintelligence   \n",
       "63                                       angelsampdemons   \n",
       "75                                     beforeisaygoodbye   \n",
       "\n",
       "                                                  soup  Cosine_Similarity  \n",
       "15353       timothyfindley 2001.0 harperflamingocanada           0.666667  \n",
       "6      celiabrooksbrown 2001.0 rylandpetersampsmallltd           0.333333  \n",
       "19                       deankoontz 2001.0 bantambooks           0.333333  \n",
       "44                         jrrtolkien 2001.0 minotauro           0.333333  \n",
       "45                         jrrtolkien 2001.0 minotauro           0.333333  \n",
       "46                       jrrtolkien 2001.0 distribooks           0.333333  \n",
       "49                jennifercrusie 2001.0 stmartinspress           0.333333  \n",
       "50                    janeheller 2001.0 stmartinspress           0.333333  \n",
       "63                          danbrown 2001.0 pocketstar           0.333333  \n",
       "75                      maryhigginsclark 2001.0 pocket           0.333333  "
      ]
     },
     "execution_count": 112,
     "metadata": {},
     "output_type": "execute_result"
    }
   ],
   "source": [
    "df_recommend = get_recommendations(8, cosine_sim2)\n",
    "df_recommend"
   ]
  }
 ],
 "metadata": {
  "kernelspec": {
   "display_name": "Python 3",
   "language": "python",
   "name": "python3"
  },
  "language_info": {
   "codemirror_mode": {
    "name": "ipython",
    "version": 3
   },
   "file_extension": ".py",
   "mimetype": "text/x-python",
   "name": "python",
   "nbconvert_exporter": "python",
   "pygments_lexer": "ipython3",
   "version": "3.10.10"
  },
  "orig_nbformat": 4
 },
 "nbformat": 4,
 "nbformat_minor": 2
}
